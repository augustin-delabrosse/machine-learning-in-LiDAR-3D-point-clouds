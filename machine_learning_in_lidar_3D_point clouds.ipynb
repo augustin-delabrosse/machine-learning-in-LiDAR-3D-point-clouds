{
 "cells": [
  {
   "cell_type": "code",
   "execution_count": 1,
   "id": "cd75fdfc-22cd-4873-80a7-6f34fa3b5700",
   "metadata": {},
   "outputs": [],
   "source": [
    "import laspy\n",
    "import numpy as np\n",
    "import pandas as pd\n",
    "import matplotlib.pyplot as plt\n",
    "\n",
    "from sklearn.neighbors import NearestNeighbors\n",
    "from sklearn.preprocessing import StandardScaler, Normalizer\n",
    "from sklearn.decomposition import PCA\n",
    "from sklearn.model_selection import train_test_split\n",
    "from sklearn.ensemble import RandomForestClassifier\n",
    "from sklearn.metrics import confusion_matrix, ConfusionMatrixDisplay, classification_report\n",
    "\n",
    "import tensorflow as tf\n",
    "\n",
    "from tqdm import tqdm\n",
    "\n",
    "import warnings\n",
    "warnings.simplefilter(\"ignore\")"
   ]
  },
  {
   "cell_type": "markdown",
   "id": "f98e8117-996d-4a21-a7f3-9b541aa1f934",
   "metadata": {},
   "source": [
    "# Exploration of the dataset"
   ]
  },
  {
   "cell_type": "code",
   "execution_count": 2,
   "id": "5bbaa60e-e643-4783-b567-3cae5e9bd2d5",
   "metadata": {
    "tags": []
   },
   "outputs": [],
   "source": [
    "las = laspy.read('../donnees/LHD_FXX_0235_6834_PTS_C_LAMB93_IGN69.copc.laz')"
   ]
  },
  {
   "cell_type": "code",
   "execution_count": 3,
   "id": "db12b205-52f6-401e-bc18-1b48ba15c81e",
   "metadata": {},
   "outputs": [
    {
     "name": "stdout",
     "output_type": "stream",
     "text": [
      "Point format:       <PointFormat(6, 0 bytes of extra dims)>\n",
      "Number of points:   29811413\n",
      "Number of vlrs:     2\n"
     ]
    }
   ],
   "source": [
    "print(f\"Point format:       {las.header.point_format}\")\n",
    "print(f\"Number of points:   {las.header.point_count}\")\n",
    "print(f\"Number of vlrs:     {len(las.header.vlrs)}\")"
   ]
  },
  {
   "cell_type": "code",
   "execution_count": 4,
   "id": "79000831-7ee5-4f26-8911-d7b5f8b05e6a",
   "metadata": {},
   "outputs": [],
   "source": [
    "df = pd.DataFrame(las.points.array, columns=list(las.point_format.dimension_names))"
   ]
  },
  {
   "cell_type": "raw",
   "id": "7af4f0a5-4396-4017-bbe1-4469f88b3acd",
   "metadata": {},
   "source": [
    "df.to_csv('donnees/lidar_data.csv')"
   ]
  },
  {
   "cell_type": "code",
   "execution_count": 5,
   "id": "54432915-837b-4c02-bc87-625f604d6a9a",
   "metadata": {},
   "outputs": [
    {
     "data": {
      "text/html": [
       "<div>\n",
       "<style scoped>\n",
       "    .dataframe tbody tr th:only-of-type {\n",
       "        vertical-align: middle;\n",
       "    }\n",
       "\n",
       "    .dataframe tbody tr th {\n",
       "        vertical-align: top;\n",
       "    }\n",
       "\n",
       "    .dataframe thead th {\n",
       "        text-align: right;\n",
       "    }\n",
       "</style>\n",
       "<table border=\"1\" class=\"dataframe\">\n",
       "  <thead>\n",
       "    <tr style=\"text-align: right;\">\n",
       "      <th></th>\n",
       "      <th>X</th>\n",
       "      <th>Y</th>\n",
       "      <th>Z</th>\n",
       "      <th>intensity</th>\n",
       "      <th>return_number</th>\n",
       "      <th>number_of_returns</th>\n",
       "      <th>synthetic</th>\n",
       "      <th>key_point</th>\n",
       "      <th>withheld</th>\n",
       "      <th>overlap</th>\n",
       "      <th>scanner_channel</th>\n",
       "      <th>scan_direction_flag</th>\n",
       "      <th>edge_of_flight_line</th>\n",
       "      <th>classification</th>\n",
       "      <th>user_data</th>\n",
       "      <th>scan_angle</th>\n",
       "      <th>point_source_id</th>\n",
       "      <th>gps_time</th>\n",
       "    </tr>\n",
       "  </thead>\n",
       "  <tbody>\n",
       "    <tr>\n",
       "      <th>0</th>\n",
       "      <td>23503027</td>\n",
       "      <td>683318829</td>\n",
       "      <td>25657</td>\n",
       "      <td>4305</td>\n",
       "      <td>NaN</td>\n",
       "      <td>NaN</td>\n",
       "      <td>NaN</td>\n",
       "      <td>NaN</td>\n",
       "      <td>NaN</td>\n",
       "      <td>NaN</td>\n",
       "      <td>NaN</td>\n",
       "      <td>NaN</td>\n",
       "      <td>NaN</td>\n",
       "      <td>2</td>\n",
       "      <td>0</td>\n",
       "      <td>2958</td>\n",
       "      <td>88</td>\n",
       "      <td>3.602434e+08</td>\n",
       "    </tr>\n",
       "    <tr>\n",
       "      <th>1</th>\n",
       "      <td>23502874</td>\n",
       "      <td>683318806</td>\n",
       "      <td>25670</td>\n",
       "      <td>3952</td>\n",
       "      <td>NaN</td>\n",
       "      <td>NaN</td>\n",
       "      <td>NaN</td>\n",
       "      <td>NaN</td>\n",
       "      <td>NaN</td>\n",
       "      <td>NaN</td>\n",
       "      <td>NaN</td>\n",
       "      <td>NaN</td>\n",
       "      <td>NaN</td>\n",
       "      <td>2</td>\n",
       "      <td>0</td>\n",
       "      <td>2958</td>\n",
       "      <td>88</td>\n",
       "      <td>3.602434e+08</td>\n",
       "    </tr>\n",
       "    <tr>\n",
       "      <th>2</th>\n",
       "      <td>23503081</td>\n",
       "      <td>683318983</td>\n",
       "      <td>25661</td>\n",
       "      <td>3626</td>\n",
       "      <td>NaN</td>\n",
       "      <td>NaN</td>\n",
       "      <td>NaN</td>\n",
       "      <td>NaN</td>\n",
       "      <td>NaN</td>\n",
       "      <td>NaN</td>\n",
       "      <td>NaN</td>\n",
       "      <td>NaN</td>\n",
       "      <td>NaN</td>\n",
       "      <td>2</td>\n",
       "      <td>0</td>\n",
       "      <td>2967</td>\n",
       "      <td>88</td>\n",
       "      <td>3.602434e+08</td>\n",
       "    </tr>\n",
       "    <tr>\n",
       "      <th>3</th>\n",
       "      <td>23502688</td>\n",
       "      <td>683318764</td>\n",
       "      <td>25686</td>\n",
       "      <td>3946</td>\n",
       "      <td>NaN</td>\n",
       "      <td>NaN</td>\n",
       "      <td>NaN</td>\n",
       "      <td>NaN</td>\n",
       "      <td>NaN</td>\n",
       "      <td>NaN</td>\n",
       "      <td>NaN</td>\n",
       "      <td>NaN</td>\n",
       "      <td>NaN</td>\n",
       "      <td>2</td>\n",
       "      <td>0</td>\n",
       "      <td>2957</td>\n",
       "      <td>88</td>\n",
       "      <td>3.602434e+08</td>\n",
       "    </tr>\n",
       "    <tr>\n",
       "      <th>4</th>\n",
       "      <td>23502730</td>\n",
       "      <td>683318818</td>\n",
       "      <td>25687</td>\n",
       "      <td>4113</td>\n",
       "      <td>NaN</td>\n",
       "      <td>NaN</td>\n",
       "      <td>NaN</td>\n",
       "      <td>NaN</td>\n",
       "      <td>NaN</td>\n",
       "      <td>NaN</td>\n",
       "      <td>NaN</td>\n",
       "      <td>NaN</td>\n",
       "      <td>NaN</td>\n",
       "      <td>2</td>\n",
       "      <td>0</td>\n",
       "      <td>2958</td>\n",
       "      <td>88</td>\n",
       "      <td>3.602434e+08</td>\n",
       "    </tr>\n",
       "  </tbody>\n",
       "</table>\n",
       "</div>"
      ],
      "text/plain": [
       "          X          Y      Z  intensity return_number number_of_returns  \\\n",
       "0  23503027  683318829  25657       4305           NaN               NaN   \n",
       "1  23502874  683318806  25670       3952           NaN               NaN   \n",
       "2  23503081  683318983  25661       3626           NaN               NaN   \n",
       "3  23502688  683318764  25686       3946           NaN               NaN   \n",
       "4  23502730  683318818  25687       4113           NaN               NaN   \n",
       "\n",
       "  synthetic key_point withheld overlap scanner_channel scan_direction_flag  \\\n",
       "0       NaN       NaN      NaN     NaN             NaN                 NaN   \n",
       "1       NaN       NaN      NaN     NaN             NaN                 NaN   \n",
       "2       NaN       NaN      NaN     NaN             NaN                 NaN   \n",
       "3       NaN       NaN      NaN     NaN             NaN                 NaN   \n",
       "4       NaN       NaN      NaN     NaN             NaN                 NaN   \n",
       "\n",
       "  edge_of_flight_line  classification  user_data  scan_angle  point_source_id  \\\n",
       "0                 NaN               2          0        2958               88   \n",
       "1                 NaN               2          0        2958               88   \n",
       "2                 NaN               2          0        2967               88   \n",
       "3                 NaN               2          0        2957               88   \n",
       "4                 NaN               2          0        2958               88   \n",
       "\n",
       "       gps_time  \n",
       "0  3.602434e+08  \n",
       "1  3.602434e+08  \n",
       "2  3.602434e+08  \n",
       "3  3.602434e+08  \n",
       "4  3.602434e+08  "
      ]
     },
     "execution_count": 5,
     "metadata": {},
     "output_type": "execute_result"
    }
   ],
   "source": [
    "df.head()"
   ]
  },
  {
   "cell_type": "code",
   "execution_count": 6,
   "id": "b7f255d6-922a-4546-acbc-44b79df71ef6",
   "metadata": {},
   "outputs": [
    {
     "data": {
      "text/html": [
       "<div>\n",
       "<style scoped>\n",
       "    .dataframe tbody tr th:only-of-type {\n",
       "        vertical-align: middle;\n",
       "    }\n",
       "\n",
       "    .dataframe tbody tr th {\n",
       "        vertical-align: top;\n",
       "    }\n",
       "\n",
       "    .dataframe thead th {\n",
       "        text-align: right;\n",
       "    }\n",
       "</style>\n",
       "<table border=\"1\" class=\"dataframe\">\n",
       "  <thead>\n",
       "    <tr style=\"text-align: right;\">\n",
       "      <th></th>\n",
       "      <th>X</th>\n",
       "      <th>Y</th>\n",
       "      <th>Z</th>\n",
       "      <th>intensity</th>\n",
       "      <th>classification</th>\n",
       "      <th>user_data</th>\n",
       "      <th>scan_angle</th>\n",
       "      <th>point_source_id</th>\n",
       "      <th>gps_time</th>\n",
       "    </tr>\n",
       "  </thead>\n",
       "  <tbody>\n",
       "    <tr>\n",
       "      <th>count</th>\n",
       "      <td>2.981141e+07</td>\n",
       "      <td>2.981141e+07</td>\n",
       "      <td>2.981141e+07</td>\n",
       "      <td>2.981141e+07</td>\n",
       "      <td>2.981141e+07</td>\n",
       "      <td>29811413.0</td>\n",
       "      <td>2.981141e+07</td>\n",
       "      <td>2.981141e+07</td>\n",
       "      <td>2.981141e+07</td>\n",
       "    </tr>\n",
       "    <tr>\n",
       "      <th>mean</th>\n",
       "      <td>2.355006e+07</td>\n",
       "      <td>6.833478e+08</td>\n",
       "      <td>2.621907e+04</td>\n",
       "      <td>1.507720e+03</td>\n",
       "      <td>3.477446e+00</td>\n",
       "      <td>0.0</td>\n",
       "      <td>-1.328111e+02</td>\n",
       "      <td>8.638310e+01</td>\n",
       "      <td>3.602452e+08</td>\n",
       "    </tr>\n",
       "    <tr>\n",
       "      <th>std</th>\n",
       "      <td>2.766448e+04</td>\n",
       "      <td>2.842053e+04</td>\n",
       "      <td>9.916993e+02</td>\n",
       "      <td>1.506110e+03</td>\n",
       "      <td>1.530183e+00</td>\n",
       "      <td>0.0</td>\n",
       "      <td>2.001018e+03</td>\n",
       "      <td>8.880250e-01</td>\n",
       "      <td>8.562649e+02</td>\n",
       "    </tr>\n",
       "    <tr>\n",
       "      <th>min</th>\n",
       "      <td>2.350000e+07</td>\n",
       "      <td>6.833000e+08</td>\n",
       "      <td>2.400100e+04</td>\n",
       "      <td>4.600000e+01</td>\n",
       "      <td>1.000000e+00</td>\n",
       "      <td>0.0</td>\n",
       "      <td>-3.336000e+03</td>\n",
       "      <td>8.500000e+01</td>\n",
       "      <td>3.602434e+08</td>\n",
       "    </tr>\n",
       "    <tr>\n",
       "      <th>25%</th>\n",
       "      <td>2.352640e+07</td>\n",
       "      <td>6.833216e+08</td>\n",
       "      <td>2.546400e+04</td>\n",
       "      <td>1.930000e+02</td>\n",
       "      <td>2.000000e+00</td>\n",
       "      <td>0.0</td>\n",
       "      <td>-1.903000e+03</td>\n",
       "      <td>8.600000e+01</td>\n",
       "      <td>3.602449e+08</td>\n",
       "    </tr>\n",
       "    <tr>\n",
       "      <th>50%</th>\n",
       "      <td>2.355090e+07</td>\n",
       "      <td>6.833501e+08</td>\n",
       "      <td>2.627600e+04</td>\n",
       "      <td>7.130000e+02</td>\n",
       "      <td>3.000000e+00</td>\n",
       "      <td>0.0</td>\n",
       "      <td>-3.200000e+02</td>\n",
       "      <td>8.600000e+01</td>\n",
       "      <td>3.602452e+08</td>\n",
       "    </tr>\n",
       "    <tr>\n",
       "      <th>75%</th>\n",
       "      <td>2.357253e+07</td>\n",
       "      <td>6.833713e+08</td>\n",
       "      <td>2.696100e+04</td>\n",
       "      <td>2.983000e+03</td>\n",
       "      <td>5.000000e+00</td>\n",
       "      <td>0.0</td>\n",
       "      <td>1.660000e+03</td>\n",
       "      <td>8.700000e+01</td>\n",
       "      <td>3.602452e+08</td>\n",
       "    </tr>\n",
       "    <tr>\n",
       "      <th>max</th>\n",
       "      <td>2.360000e+07</td>\n",
       "      <td>6.834000e+08</td>\n",
       "      <td>2.935300e+04</td>\n",
       "      <td>1.221300e+04</td>\n",
       "      <td>6.700000e+01</td>\n",
       "      <td>0.0</td>\n",
       "      <td>3.325000e+03</td>\n",
       "      <td>8.800000e+01</td>\n",
       "      <td>3.602467e+08</td>\n",
       "    </tr>\n",
       "  </tbody>\n",
       "</table>\n",
       "</div>"
      ],
      "text/plain": [
       "                  X             Y             Z     intensity  classification  \\\n",
       "count  2.981141e+07  2.981141e+07  2.981141e+07  2.981141e+07    2.981141e+07   \n",
       "mean   2.355006e+07  6.833478e+08  2.621907e+04  1.507720e+03    3.477446e+00   \n",
       "std    2.766448e+04  2.842053e+04  9.916993e+02  1.506110e+03    1.530183e+00   \n",
       "min    2.350000e+07  6.833000e+08  2.400100e+04  4.600000e+01    1.000000e+00   \n",
       "25%    2.352640e+07  6.833216e+08  2.546400e+04  1.930000e+02    2.000000e+00   \n",
       "50%    2.355090e+07  6.833501e+08  2.627600e+04  7.130000e+02    3.000000e+00   \n",
       "75%    2.357253e+07  6.833713e+08  2.696100e+04  2.983000e+03    5.000000e+00   \n",
       "max    2.360000e+07  6.834000e+08  2.935300e+04  1.221300e+04    6.700000e+01   \n",
       "\n",
       "        user_data    scan_angle  point_source_id      gps_time  \n",
       "count  29811413.0  2.981141e+07     2.981141e+07  2.981141e+07  \n",
       "mean          0.0 -1.328111e+02     8.638310e+01  3.602452e+08  \n",
       "std           0.0  2.001018e+03     8.880250e-01  8.562649e+02  \n",
       "min           0.0 -3.336000e+03     8.500000e+01  3.602434e+08  \n",
       "25%           0.0 -1.903000e+03     8.600000e+01  3.602449e+08  \n",
       "50%           0.0 -3.200000e+02     8.600000e+01  3.602452e+08  \n",
       "75%           0.0  1.660000e+03     8.700000e+01  3.602452e+08  \n",
       "max           0.0  3.325000e+03     8.800000e+01  3.602467e+08  "
      ]
     },
     "execution_count": 6,
     "metadata": {},
     "output_type": "execute_result"
    }
   ],
   "source": [
    "df.describe()"
   ]
  },
  {
   "cell_type": "code",
   "execution_count": 7,
   "id": "faa224f6-2e41-401c-bd4e-395550f1f27c",
   "metadata": {},
   "outputs": [
    {
     "name": "stdout",
     "output_type": "stream",
     "text": [
      "<class 'pandas.core.frame.DataFrame'>\n",
      "RangeIndex: 29811413 entries, 0 to 29811412\n",
      "Data columns (total 18 columns):\n",
      " #   Column               Dtype  \n",
      "---  ------               -----  \n",
      " 0   X                    int32  \n",
      " 1   Y                    int32  \n",
      " 2   Z                    int32  \n",
      " 3   intensity            uint16 \n",
      " 4   return_number        object \n",
      " 5   number_of_returns    object \n",
      " 6   synthetic            object \n",
      " 7   key_point            object \n",
      " 8   withheld             object \n",
      " 9   overlap              object \n",
      " 10  scanner_channel      object \n",
      " 11  scan_direction_flag  object \n",
      " 12  edge_of_flight_line  object \n",
      " 13  classification       uint8  \n",
      " 14  user_data            uint8  \n",
      " 15  scan_angle           int16  \n",
      " 16  point_source_id      uint16 \n",
      " 17  gps_time             float64\n",
      "dtypes: float64(1), int16(1), int32(3), object(9), uint16(2), uint8(2)\n",
      "memory usage: 2.8+ GB\n"
     ]
    }
   ],
   "source": [
    "df.info()"
   ]
  },
  {
   "cell_type": "code",
   "execution_count": 8,
   "id": "6cca86ea-62ef-4cdf-b005-547901f5d127",
   "metadata": {},
   "outputs": [
    {
     "data": {
      "text/plain": [
       "X                      0.0\n",
       "Y                      0.0\n",
       "Z                      0.0\n",
       "intensity              0.0\n",
       "return_number          1.0\n",
       "number_of_returns      1.0\n",
       "synthetic              1.0\n",
       "key_point              1.0\n",
       "withheld               1.0\n",
       "overlap                1.0\n",
       "scanner_channel        1.0\n",
       "scan_direction_flag    1.0\n",
       "edge_of_flight_line    1.0\n",
       "classification         0.0\n",
       "user_data              0.0\n",
       "scan_angle             0.0\n",
       "point_source_id        0.0\n",
       "gps_time               0.0\n",
       "dtype: float64"
      ]
     },
     "execution_count": 8,
     "metadata": {},
     "output_type": "execute_result"
    }
   ],
   "source": [
    "df.isnull().sum()/df.shape[0]"
   ]
  },
  {
   "cell_type": "code",
   "execution_count": 9,
   "id": "d9085e47-235b-4468-bd7c-8ab7ef431597",
   "metadata": {},
   "outputs": [],
   "source": [
    "df_na_dropped = df.dropna(axis=1, how='all')"
   ]
  },
  {
   "cell_type": "code",
   "execution_count": 10,
   "id": "1e481331-298d-41c2-9b36-8c7da781d9c5",
   "metadata": {},
   "outputs": [
    {
     "data": {
      "text/plain": [
       "X                  0.0\n",
       "Y                  0.0\n",
       "Z                  0.0\n",
       "intensity          0.0\n",
       "classification     0.0\n",
       "user_data          0.0\n",
       "scan_angle         0.0\n",
       "point_source_id    0.0\n",
       "gps_time           0.0\n",
       "dtype: float64"
      ]
     },
     "execution_count": 10,
     "metadata": {},
     "output_type": "execute_result"
    }
   ],
   "source": [
    "df_na_dropped.isnull().sum()/df_na_dropped.shape[0]"
   ]
  },
  {
   "cell_type": "code",
   "execution_count": 11,
   "id": "072c01bb-079d-4f12-a602-6385d87190b4",
   "metadata": {},
   "outputs": [],
   "source": [
    "sample_df = df_na_dropped.sample(500000)"
   ]
  },
  {
   "cell_type": "code",
   "execution_count": 12,
   "id": "212377ce-523c-42e7-9048-b6a598ff3336",
   "metadata": {},
   "outputs": [],
   "source": [
    "sample_df = sample_df[['X', 'Y', 'Z', 'intensity', 'scan_angle', 'classification']]\n",
    "# F. Patricia Medina and Randy Paffenroth use the return_number and number_of_returns variables but we only have nan values for these variables in ou dataset."
   ]
  },
  {
   "cell_type": "markdown",
   "id": "9ad4af91-25d3-417e-a447-7fa7a5f8e6d7",
   "metadata": {},
   "source": [
    "# Preprocessing of the dataset and feature engineering"
   ]
  },
  {
   "cell_type": "code",
   "execution_count": 13,
   "id": "1391c552-f235-4999-b797-56460509d58d",
   "metadata": {},
   "outputs": [],
   "source": [
    "X = sample_df.drop('classification', axis=1)"
   ]
  },
  {
   "cell_type": "code",
   "execution_count": 14,
   "id": "266f8b9e-9ad6-438d-bc15-33c9de673f88",
   "metadata": {},
   "outputs": [],
   "source": [
    "Y = sample_df['classification']"
   ]
  },
  {
   "cell_type": "raw",
   "id": "04398e6b-d19a-4dd5-85da-c525f81e1aea",
   "metadata": {},
   "source": [
    "X[['X', 'Y', 'Z']]"
   ]
  },
  {
   "cell_type": "code",
   "execution_count": 15,
   "id": "4c9f0fac-a00e-4d5a-904e-323302f3efbb",
   "metadata": {},
   "outputs": [],
   "source": [
    "np.random.seed(42)\n",
    "X_coordinates = X[['X', 'Y', 'Z']]\n",
    "\n",
    "# Number of neighbors to consider\n",
    "k_neighbors = 16 # 15 neighbors + the point itself"
   ]
  },
  {
   "cell_type": "code",
   "execution_count": 16,
   "id": "44a80c51-51da-4212-8f15-09603814f116",
   "metadata": {},
   "outputs": [
    {
     "data": {
      "text/html": [
       "<style>#sk-container-id-1 {color: black;}#sk-container-id-1 pre{padding: 0;}#sk-container-id-1 div.sk-toggleable {background-color: white;}#sk-container-id-1 label.sk-toggleable__label {cursor: pointer;display: block;width: 100%;margin-bottom: 0;padding: 0.3em;box-sizing: border-box;text-align: center;}#sk-container-id-1 label.sk-toggleable__label-arrow:before {content: \"▸\";float: left;margin-right: 0.25em;color: #696969;}#sk-container-id-1 label.sk-toggleable__label-arrow:hover:before {color: black;}#sk-container-id-1 div.sk-estimator:hover label.sk-toggleable__label-arrow:before {color: black;}#sk-container-id-1 div.sk-toggleable__content {max-height: 0;max-width: 0;overflow: hidden;text-align: left;background-color: #f0f8ff;}#sk-container-id-1 div.sk-toggleable__content pre {margin: 0.2em;color: black;border-radius: 0.25em;background-color: #f0f8ff;}#sk-container-id-1 input.sk-toggleable__control:checked~div.sk-toggleable__content {max-height: 200px;max-width: 100%;overflow: auto;}#sk-container-id-1 input.sk-toggleable__control:checked~label.sk-toggleable__label-arrow:before {content: \"▾\";}#sk-container-id-1 div.sk-estimator input.sk-toggleable__control:checked~label.sk-toggleable__label {background-color: #d4ebff;}#sk-container-id-1 div.sk-label input.sk-toggleable__control:checked~label.sk-toggleable__label {background-color: #d4ebff;}#sk-container-id-1 input.sk-hidden--visually {border: 0;clip: rect(1px 1px 1px 1px);clip: rect(1px, 1px, 1px, 1px);height: 1px;margin: -1px;overflow: hidden;padding: 0;position: absolute;width: 1px;}#sk-container-id-1 div.sk-estimator {font-family: monospace;background-color: #f0f8ff;border: 1px dotted black;border-radius: 0.25em;box-sizing: border-box;margin-bottom: 0.5em;}#sk-container-id-1 div.sk-estimator:hover {background-color: #d4ebff;}#sk-container-id-1 div.sk-parallel-item::after {content: \"\";width: 100%;border-bottom: 1px solid gray;flex-grow: 1;}#sk-container-id-1 div.sk-label:hover label.sk-toggleable__label {background-color: #d4ebff;}#sk-container-id-1 div.sk-serial::before {content: \"\";position: absolute;border-left: 1px solid gray;box-sizing: border-box;top: 0;bottom: 0;left: 50%;z-index: 0;}#sk-container-id-1 div.sk-serial {display: flex;flex-direction: column;align-items: center;background-color: white;padding-right: 0.2em;padding-left: 0.2em;position: relative;}#sk-container-id-1 div.sk-item {position: relative;z-index: 1;}#sk-container-id-1 div.sk-parallel {display: flex;align-items: stretch;justify-content: center;background-color: white;position: relative;}#sk-container-id-1 div.sk-item::before, #sk-container-id-1 div.sk-parallel-item::before {content: \"\";position: absolute;border-left: 1px solid gray;box-sizing: border-box;top: 0;bottom: 0;left: 50%;z-index: -1;}#sk-container-id-1 div.sk-parallel-item {display: flex;flex-direction: column;z-index: 1;position: relative;background-color: white;}#sk-container-id-1 div.sk-parallel-item:first-child::after {align-self: flex-end;width: 50%;}#sk-container-id-1 div.sk-parallel-item:last-child::after {align-self: flex-start;width: 50%;}#sk-container-id-1 div.sk-parallel-item:only-child::after {width: 0;}#sk-container-id-1 div.sk-dashed-wrapped {border: 1px dashed gray;margin: 0 0.4em 0.5em 0.4em;box-sizing: border-box;padding-bottom: 0.4em;background-color: white;}#sk-container-id-1 div.sk-label label {font-family: monospace;font-weight: bold;display: inline-block;line-height: 1.2em;}#sk-container-id-1 div.sk-label-container {text-align: center;}#sk-container-id-1 div.sk-container {/* jupyter's `normalize.less` sets `[hidden] { display: none; }` but bootstrap.min.css set `[hidden] { display: none !important; }` so we also need the `!important` here to be able to override the default hidden behavior on the sphinx rendered scikit-learn.org. See: https://github.com/scikit-learn/scikit-learn/issues/21755 */display: inline-block !important;position: relative;}#sk-container-id-1 div.sk-text-repr-fallback {display: none;}</style><div id=\"sk-container-id-1\" class=\"sk-top-container\"><div class=\"sk-text-repr-fallback\"><pre>NearestNeighbors(metric=&#x27;euclidean&#x27;, n_neighbors=16)</pre><b>In a Jupyter environment, please rerun this cell to show the HTML representation or trust the notebook. <br />On GitHub, the HTML representation is unable to render, please try loading this page with nbviewer.org.</b></div><div class=\"sk-container\" hidden><div class=\"sk-item\"><div class=\"sk-estimator sk-toggleable\"><input class=\"sk-toggleable__control sk-hidden--visually\" id=\"sk-estimator-id-1\" type=\"checkbox\" checked><label for=\"sk-estimator-id-1\" class=\"sk-toggleable__label sk-toggleable__label-arrow\">NearestNeighbors</label><div class=\"sk-toggleable__content\"><pre>NearestNeighbors(metric=&#x27;euclidean&#x27;, n_neighbors=16)</pre></div></div></div></div></div>"
      ],
      "text/plain": [
       "NearestNeighbors(metric='euclidean', n_neighbors=16)"
      ]
     },
     "execution_count": 16,
     "metadata": {},
     "output_type": "execute_result"
    }
   ],
   "source": [
    "# Fit a Nearest Neighbors model on your data\n",
    "nn_model = NearestNeighbors(n_neighbors=k_neighbors, metric='euclidean')\n",
    "nn_model.fit(X_coordinates)"
   ]
  },
  {
   "cell_type": "code",
   "execution_count": 17,
   "id": "cfa37db5-7ddf-41aa-b003-3ddd99bdcf38",
   "metadata": {},
   "outputs": [],
   "source": [
    "# Function to find the k-nearest neighbors for each sample and concatenate their features\n",
    "def find_and_concat_neighbors(row):\n",
    "    distances, indices = nn_model.kneighbors([row])\n",
    "    neighbor_features = X.iloc[indices[0]].values.flatten()\n",
    "    return pd.Series(neighbor_features)"
   ]
  },
  {
   "cell_type": "code",
   "execution_count": 19,
   "id": "28fa9e54-273c-45d4-8540-6ce45ff7062d",
   "metadata": {},
   "outputs": [
    {
     "name": "stderr",
     "output_type": "stream",
     "text": [
      "100%|████████████████████████████████████████████████████████████████████████| 500000/500000 [04:20<00:00, 1922.84it/s]\n"
     ]
    }
   ],
   "source": [
    "tqdm.pandas()\n",
    "result_X_coordinates = X_coordinates.progress_apply(find_and_concat_neighbors, axis=1)"
   ]
  },
  {
   "cell_type": "code",
   "execution_count": 20,
   "id": "206a9a70-0d8b-4f37-95fc-5a48bcf631ae",
   "metadata": {},
   "outputs": [
    {
     "data": {
      "text/plain": [
       "(500000, 80)"
      ]
     },
     "execution_count": 20,
     "metadata": {},
     "output_type": "execute_result"
    }
   ],
   "source": [
    "result_X_coordinates.shape"
   ]
  },
  {
   "cell_type": "code",
   "execution_count": 21,
   "id": "aa19d2f7-83d4-4905-a601-c8d8872ef24e",
   "metadata": {},
   "outputs": [],
   "source": [
    "result_X_coordinates.columns = np.array([[f'{j}_{i}' for j in X.columns] for i in range(k_neighbors)]).flatten()"
   ]
  },
  {
   "cell_type": "code",
   "execution_count": 22,
   "id": "dd386d00-ded3-4d5b-a079-fbdf0c10e04f",
   "metadata": {},
   "outputs": [
    {
     "data": {
      "text/html": [
       "<div>\n",
       "<style scoped>\n",
       "    .dataframe tbody tr th:only-of-type {\n",
       "        vertical-align: middle;\n",
       "    }\n",
       "\n",
       "    .dataframe tbody tr th {\n",
       "        vertical-align: top;\n",
       "    }\n",
       "\n",
       "    .dataframe thead th {\n",
       "        text-align: right;\n",
       "    }\n",
       "</style>\n",
       "<table border=\"1\" class=\"dataframe\">\n",
       "  <thead>\n",
       "    <tr style=\"text-align: right;\">\n",
       "      <th></th>\n",
       "      <th>X_0</th>\n",
       "      <th>Y_0</th>\n",
       "      <th>Z_0</th>\n",
       "      <th>intensity_0</th>\n",
       "      <th>scan_angle_0</th>\n",
       "      <th>X_1</th>\n",
       "      <th>Y_1</th>\n",
       "      <th>Z_1</th>\n",
       "      <th>intensity_1</th>\n",
       "      <th>scan_angle_1</th>\n",
       "      <th>...</th>\n",
       "      <th>X_14</th>\n",
       "      <th>Y_14</th>\n",
       "      <th>Z_14</th>\n",
       "      <th>intensity_14</th>\n",
       "      <th>scan_angle_14</th>\n",
       "      <th>X_15</th>\n",
       "      <th>Y_15</th>\n",
       "      <th>Z_15</th>\n",
       "      <th>intensity_15</th>\n",
       "      <th>scan_angle_15</th>\n",
       "    </tr>\n",
       "  </thead>\n",
       "  <tbody>\n",
       "    <tr>\n",
       "      <th>21478638</th>\n",
       "      <td>23531244</td>\n",
       "      <td>683315434</td>\n",
       "      <td>24223</td>\n",
       "      <td>1824</td>\n",
       "      <td>-2760</td>\n",
       "      <td>23531283</td>\n",
       "      <td>683315379</td>\n",
       "      <td>24222</td>\n",
       "      <td>1596</td>\n",
       "      <td>-2682</td>\n",
       "      <td>...</td>\n",
       "      <td>23531310</td>\n",
       "      <td>683315145</td>\n",
       "      <td>24203</td>\n",
       "      <td>1713</td>\n",
       "      <td>2766</td>\n",
       "      <td>23531483</td>\n",
       "      <td>683315248</td>\n",
       "      <td>24208</td>\n",
       "      <td>1625</td>\n",
       "      <td>-2770</td>\n",
       "    </tr>\n",
       "    <tr>\n",
       "      <th>80122</th>\n",
       "      <td>23514718</td>\n",
       "      <td>683357940</td>\n",
       "      <td>27104</td>\n",
       "      <td>3397</td>\n",
       "      <td>-2228</td>\n",
       "      <td>23514468</td>\n",
       "      <td>683357964</td>\n",
       "      <td>27124</td>\n",
       "      <td>4127</td>\n",
       "      <td>-563</td>\n",
       "      <td>...</td>\n",
       "      <td>23514396</td>\n",
       "      <td>683358245</td>\n",
       "      <td>27109</td>\n",
       "      <td>4959</td>\n",
       "      <td>3325</td>\n",
       "      <td>23514273</td>\n",
       "      <td>683357908</td>\n",
       "      <td>27142</td>\n",
       "      <td>3136</td>\n",
       "      <td>-2228</td>\n",
       "    </tr>\n",
       "    <tr>\n",
       "      <th>20952062</th>\n",
       "      <td>23521539</td>\n",
       "      <td>683379481</td>\n",
       "      <td>27670</td>\n",
       "      <td>738</td>\n",
       "      <td>-3299</td>\n",
       "      <td>23521464</td>\n",
       "      <td>683379443</td>\n",
       "      <td>27599</td>\n",
       "      <td>327</td>\n",
       "      <td>2317</td>\n",
       "      <td>...</td>\n",
       "      <td>23521408</td>\n",
       "      <td>683379291</td>\n",
       "      <td>27401</td>\n",
       "      <td>1749</td>\n",
       "      <td>2321</td>\n",
       "      <td>23521262</td>\n",
       "      <td>683379304</td>\n",
       "      <td>27507</td>\n",
       "      <td>1821</td>\n",
       "      <td>2324</td>\n",
       "    </tr>\n",
       "    <tr>\n",
       "      <th>16395898</th>\n",
       "      <td>23569742</td>\n",
       "      <td>683324234</td>\n",
       "      <td>25730</td>\n",
       "      <td>1567</td>\n",
       "      <td>3208</td>\n",
       "      <td>23569621</td>\n",
       "      <td>683324198</td>\n",
       "      <td>25845</td>\n",
       "      <td>252</td>\n",
       "      <td>-496</td>\n",
       "      <td>...</td>\n",
       "      <td>23570049</td>\n",
       "      <td>683324330</td>\n",
       "      <td>25972</td>\n",
       "      <td>917</td>\n",
       "      <td>3219</td>\n",
       "      <td>23570068</td>\n",
       "      <td>683324363</td>\n",
       "      <td>25961</td>\n",
       "      <td>76</td>\n",
       "      <td>3222</td>\n",
       "    </tr>\n",
       "    <tr>\n",
       "      <th>29295993</th>\n",
       "      <td>23513909</td>\n",
       "      <td>683345528</td>\n",
       "      <td>27324</td>\n",
       "      <td>3561</td>\n",
       "      <td>-1622</td>\n",
       "      <td>23513971</td>\n",
       "      <td>683345574</td>\n",
       "      <td>27324</td>\n",
       "      <td>3297</td>\n",
       "      <td>-1598</td>\n",
       "      <td>...</td>\n",
       "      <td>23513631</td>\n",
       "      <td>683345876</td>\n",
       "      <td>27343</td>\n",
       "      <td>4009</td>\n",
       "      <td>-1197</td>\n",
       "      <td>23513501</td>\n",
       "      <td>683345301</td>\n",
       "      <td>27335</td>\n",
       "      <td>2693</td>\n",
       "      <td>-1611</td>\n",
       "    </tr>\n",
       "    <tr>\n",
       "      <th>...</th>\n",
       "      <td>...</td>\n",
       "      <td>...</td>\n",
       "      <td>...</td>\n",
       "      <td>...</td>\n",
       "      <td>...</td>\n",
       "      <td>...</td>\n",
       "      <td>...</td>\n",
       "      <td>...</td>\n",
       "      <td>...</td>\n",
       "      <td>...</td>\n",
       "      <td>...</td>\n",
       "      <td>...</td>\n",
       "      <td>...</td>\n",
       "      <td>...</td>\n",
       "      <td>...</td>\n",
       "      <td>...</td>\n",
       "      <td>...</td>\n",
       "      <td>...</td>\n",
       "      <td>...</td>\n",
       "      <td>...</td>\n",
       "      <td>...</td>\n",
       "    </tr>\n",
       "    <tr>\n",
       "      <th>24268942</th>\n",
       "      <td>23556295</td>\n",
       "      <td>683346863</td>\n",
       "      <td>24756</td>\n",
       "      <td>79</td>\n",
       "      <td>-1662</td>\n",
       "      <td>23556267</td>\n",
       "      <td>683346824</td>\n",
       "      <td>24749</td>\n",
       "      <td>1362</td>\n",
       "      <td>-1086</td>\n",
       "      <td>...</td>\n",
       "      <td>23556060</td>\n",
       "      <td>683347276</td>\n",
       "      <td>24750</td>\n",
       "      <td>675</td>\n",
       "      <td>-1062</td>\n",
       "      <td>23555978</td>\n",
       "      <td>683347128</td>\n",
       "      <td>24993</td>\n",
       "      <td>219</td>\n",
       "      <td>-1662</td>\n",
       "    </tr>\n",
       "    <tr>\n",
       "      <th>9243740</th>\n",
       "      <td>23509969</td>\n",
       "      <td>683337829</td>\n",
       "      <td>27070</td>\n",
       "      <td>4023</td>\n",
       "      <td>-1614</td>\n",
       "      <td>23509901</td>\n",
       "      <td>683337893</td>\n",
       "      <td>27075</td>\n",
       "      <td>3978</td>\n",
       "      <td>-1190</td>\n",
       "      <td>...</td>\n",
       "      <td>23510127</td>\n",
       "      <td>683337470</td>\n",
       "      <td>27049</td>\n",
       "      <td>3389</td>\n",
       "      <td>-1210</td>\n",
       "      <td>23509874</td>\n",
       "      <td>683338252</td>\n",
       "      <td>27097</td>\n",
       "      <td>3707</td>\n",
       "      <td>-1210</td>\n",
       "    </tr>\n",
       "    <tr>\n",
       "      <th>443033</th>\n",
       "      <td>23537691</td>\n",
       "      <td>683364852</td>\n",
       "      <td>25661</td>\n",
       "      <td>4171</td>\n",
       "      <td>-305</td>\n",
       "      <td>23537592</td>\n",
       "      <td>683364922</td>\n",
       "      <td>25660</td>\n",
       "      <td>3759</td>\n",
       "      <td>2994</td>\n",
       "      <td>...</td>\n",
       "      <td>23537676</td>\n",
       "      <td>683365306</td>\n",
       "      <td>25664</td>\n",
       "      <td>4853</td>\n",
       "      <td>2979</td>\n",
       "      <td>23538125</td>\n",
       "      <td>683364705</td>\n",
       "      <td>25663</td>\n",
       "      <td>4475</td>\n",
       "      <td>3005</td>\n",
       "    </tr>\n",
       "    <tr>\n",
       "      <th>11642033</th>\n",
       "      <td>23526173</td>\n",
       "      <td>683330718</td>\n",
       "      <td>25820</td>\n",
       "      <td>602</td>\n",
       "      <td>-1945</td>\n",
       "      <td>23526328</td>\n",
       "      <td>683330833</td>\n",
       "      <td>25803</td>\n",
       "      <td>2215</td>\n",
       "      <td>-1938</td>\n",
       "      <td>...</td>\n",
       "      <td>23526293</td>\n",
       "      <td>683330483</td>\n",
       "      <td>26162</td>\n",
       "      <td>169</td>\n",
       "      <td>-814</td>\n",
       "      <td>23526278</td>\n",
       "      <td>683330404</td>\n",
       "      <td>26122</td>\n",
       "      <td>106</td>\n",
       "      <td>-825</td>\n",
       "    </tr>\n",
       "    <tr>\n",
       "      <th>25253986</th>\n",
       "      <td>23567092</td>\n",
       "      <td>683372957</td>\n",
       "      <td>26766</td>\n",
       "      <td>1042</td>\n",
       "      <td>263</td>\n",
       "      <td>23567038</td>\n",
       "      <td>683372900</td>\n",
       "      <td>26787</td>\n",
       "      <td>74</td>\n",
       "      <td>260</td>\n",
       "      <td>...</td>\n",
       "      <td>23567336</td>\n",
       "      <td>683372722</td>\n",
       "      <td>26813</td>\n",
       "      <td>130</td>\n",
       "      <td>2653</td>\n",
       "      <td>23567219</td>\n",
       "      <td>683373160</td>\n",
       "      <td>27032</td>\n",
       "      <td>106</td>\n",
       "      <td>-2975</td>\n",
       "    </tr>\n",
       "  </tbody>\n",
       "</table>\n",
       "<p>500000 rows × 80 columns</p>\n",
       "</div>"
      ],
      "text/plain": [
       "               X_0        Y_0    Z_0  intensity_0  scan_angle_0       X_1  \\\n",
       "21478638  23531244  683315434  24223         1824         -2760  23531283   \n",
       "80122     23514718  683357940  27104         3397         -2228  23514468   \n",
       "20952062  23521539  683379481  27670          738         -3299  23521464   \n",
       "16395898  23569742  683324234  25730         1567          3208  23569621   \n",
       "29295993  23513909  683345528  27324         3561         -1622  23513971   \n",
       "...            ...        ...    ...          ...           ...       ...   \n",
       "24268942  23556295  683346863  24756           79         -1662  23556267   \n",
       "9243740   23509969  683337829  27070         4023         -1614  23509901   \n",
       "443033    23537691  683364852  25661         4171          -305  23537592   \n",
       "11642033  23526173  683330718  25820          602         -1945  23526328   \n",
       "25253986  23567092  683372957  26766         1042           263  23567038   \n",
       "\n",
       "                Y_1    Z_1  intensity_1  scan_angle_1  ...      X_14  \\\n",
       "21478638  683315379  24222         1596         -2682  ...  23531310   \n",
       "80122     683357964  27124         4127          -563  ...  23514396   \n",
       "20952062  683379443  27599          327          2317  ...  23521408   \n",
       "16395898  683324198  25845          252          -496  ...  23570049   \n",
       "29295993  683345574  27324         3297         -1598  ...  23513631   \n",
       "...             ...    ...          ...           ...  ...       ...   \n",
       "24268942  683346824  24749         1362         -1086  ...  23556060   \n",
       "9243740   683337893  27075         3978         -1190  ...  23510127   \n",
       "443033    683364922  25660         3759          2994  ...  23537676   \n",
       "11642033  683330833  25803         2215         -1938  ...  23526293   \n",
       "25253986  683372900  26787           74           260  ...  23567336   \n",
       "\n",
       "               Y_14   Z_14  intensity_14  scan_angle_14      X_15       Y_15  \\\n",
       "21478638  683315145  24203          1713           2766  23531483  683315248   \n",
       "80122     683358245  27109          4959           3325  23514273  683357908   \n",
       "20952062  683379291  27401          1749           2321  23521262  683379304   \n",
       "16395898  683324330  25972           917           3219  23570068  683324363   \n",
       "29295993  683345876  27343          4009          -1197  23513501  683345301   \n",
       "...             ...    ...           ...            ...       ...        ...   \n",
       "24268942  683347276  24750           675          -1062  23555978  683347128   \n",
       "9243740   683337470  27049          3389          -1210  23509874  683338252   \n",
       "443033    683365306  25664          4853           2979  23538125  683364705   \n",
       "11642033  683330483  26162           169           -814  23526278  683330404   \n",
       "25253986  683372722  26813           130           2653  23567219  683373160   \n",
       "\n",
       "           Z_15  intensity_15  scan_angle_15  \n",
       "21478638  24208          1625          -2770  \n",
       "80122     27142          3136          -2228  \n",
       "20952062  27507          1821           2324  \n",
       "16395898  25961            76           3222  \n",
       "29295993  27335          2693          -1611  \n",
       "...         ...           ...            ...  \n",
       "24268942  24993           219          -1662  \n",
       "9243740   27097          3707          -1210  \n",
       "443033    25663          4475           3005  \n",
       "11642033  26122           106           -825  \n",
       "25253986  27032           106          -2975  \n",
       "\n",
       "[500000 rows x 80 columns]"
      ]
     },
     "execution_count": 22,
     "metadata": {},
     "output_type": "execute_result"
    }
   ],
   "source": [
    "result_X_coordinates"
   ]
  },
  {
   "cell_type": "code",
   "execution_count": 23,
   "id": "13a86852-ae15-4779-9ccc-801a350e1a23",
   "metadata": {},
   "outputs": [],
   "source": [
    "scaler = StandardScaler()\n",
    "standardized_X = scaler.fit_transform(result_X_coordinates)"
   ]
  },
  {
   "cell_type": "code",
   "execution_count": 24,
   "id": "8fe1cd3e-afa6-41d7-95a8-82f0adf5449e",
   "metadata": {},
   "outputs": [],
   "source": [
    "normalizer = Normalizer()\n",
    "normalized_X = normalizer.fit_transform(standardized_X)"
   ]
  },
  {
   "cell_type": "code",
   "execution_count": 25,
   "id": "8a66af43-0c3d-4654-8740-a7f6be07716a",
   "metadata": {},
   "outputs": [],
   "source": [
    "pca = PCA(n_components=40)\n",
    "final_X = pca.fit_transform(result_X_coordinates)\n",
    "# print(pca.explained_variance_ratio_)"
   ]
  },
  {
   "cell_type": "code",
   "execution_count": 26,
   "id": "d57ff4c3-506c-4564-9c55-5771b6766154",
   "metadata": {},
   "outputs": [],
   "source": [
    "X_train, X_test, y_train, y_test = train_test_split(\n",
    "    final_X, Y, test_size=0.1, random_state=42)"
   ]
  },
  {
   "cell_type": "markdown",
   "id": "5b49e7cd-1d3e-4b1c-b69b-b2f76756ea6c",
   "metadata": {},
   "source": [
    "## RandomForestClassifier"
   ]
  },
  {
   "cell_type": "markdown",
   "id": "1048ec3c-8ec9-486a-ae11-27ef9d71ef1d",
   "metadata": {},
   "source": [
    "### Initialize and train model"
   ]
  },
  {
   "cell_type": "code",
   "execution_count": 27,
   "id": "d522277c-44d6-41df-b030-aa4793bb4430",
   "metadata": {},
   "outputs": [
    {
     "data": {
      "text/html": [
       "<style>#sk-container-id-2 {color: black;}#sk-container-id-2 pre{padding: 0;}#sk-container-id-2 div.sk-toggleable {background-color: white;}#sk-container-id-2 label.sk-toggleable__label {cursor: pointer;display: block;width: 100%;margin-bottom: 0;padding: 0.3em;box-sizing: border-box;text-align: center;}#sk-container-id-2 label.sk-toggleable__label-arrow:before {content: \"▸\";float: left;margin-right: 0.25em;color: #696969;}#sk-container-id-2 label.sk-toggleable__label-arrow:hover:before {color: black;}#sk-container-id-2 div.sk-estimator:hover label.sk-toggleable__label-arrow:before {color: black;}#sk-container-id-2 div.sk-toggleable__content {max-height: 0;max-width: 0;overflow: hidden;text-align: left;background-color: #f0f8ff;}#sk-container-id-2 div.sk-toggleable__content pre {margin: 0.2em;color: black;border-radius: 0.25em;background-color: #f0f8ff;}#sk-container-id-2 input.sk-toggleable__control:checked~div.sk-toggleable__content {max-height: 200px;max-width: 100%;overflow: auto;}#sk-container-id-2 input.sk-toggleable__control:checked~label.sk-toggleable__label-arrow:before {content: \"▾\";}#sk-container-id-2 div.sk-estimator input.sk-toggleable__control:checked~label.sk-toggleable__label {background-color: #d4ebff;}#sk-container-id-2 div.sk-label input.sk-toggleable__control:checked~label.sk-toggleable__label {background-color: #d4ebff;}#sk-container-id-2 input.sk-hidden--visually {border: 0;clip: rect(1px 1px 1px 1px);clip: rect(1px, 1px, 1px, 1px);height: 1px;margin: -1px;overflow: hidden;padding: 0;position: absolute;width: 1px;}#sk-container-id-2 div.sk-estimator {font-family: monospace;background-color: #f0f8ff;border: 1px dotted black;border-radius: 0.25em;box-sizing: border-box;margin-bottom: 0.5em;}#sk-container-id-2 div.sk-estimator:hover {background-color: #d4ebff;}#sk-container-id-2 div.sk-parallel-item::after {content: \"\";width: 100%;border-bottom: 1px solid gray;flex-grow: 1;}#sk-container-id-2 div.sk-label:hover label.sk-toggleable__label {background-color: #d4ebff;}#sk-container-id-2 div.sk-serial::before {content: \"\";position: absolute;border-left: 1px solid gray;box-sizing: border-box;top: 0;bottom: 0;left: 50%;z-index: 0;}#sk-container-id-2 div.sk-serial {display: flex;flex-direction: column;align-items: center;background-color: white;padding-right: 0.2em;padding-left: 0.2em;position: relative;}#sk-container-id-2 div.sk-item {position: relative;z-index: 1;}#sk-container-id-2 div.sk-parallel {display: flex;align-items: stretch;justify-content: center;background-color: white;position: relative;}#sk-container-id-2 div.sk-item::before, #sk-container-id-2 div.sk-parallel-item::before {content: \"\";position: absolute;border-left: 1px solid gray;box-sizing: border-box;top: 0;bottom: 0;left: 50%;z-index: -1;}#sk-container-id-2 div.sk-parallel-item {display: flex;flex-direction: column;z-index: 1;position: relative;background-color: white;}#sk-container-id-2 div.sk-parallel-item:first-child::after {align-self: flex-end;width: 50%;}#sk-container-id-2 div.sk-parallel-item:last-child::after {align-self: flex-start;width: 50%;}#sk-container-id-2 div.sk-parallel-item:only-child::after {width: 0;}#sk-container-id-2 div.sk-dashed-wrapped {border: 1px dashed gray;margin: 0 0.4em 0.5em 0.4em;box-sizing: border-box;padding-bottom: 0.4em;background-color: white;}#sk-container-id-2 div.sk-label label {font-family: monospace;font-weight: bold;display: inline-block;line-height: 1.2em;}#sk-container-id-2 div.sk-label-container {text-align: center;}#sk-container-id-2 div.sk-container {/* jupyter's `normalize.less` sets `[hidden] { display: none; }` but bootstrap.min.css set `[hidden] { display: none !important; }` so we also need the `!important` here to be able to override the default hidden behavior on the sphinx rendered scikit-learn.org. See: https://github.com/scikit-learn/scikit-learn/issues/21755 */display: inline-block !important;position: relative;}#sk-container-id-2 div.sk-text-repr-fallback {display: none;}</style><div id=\"sk-container-id-2\" class=\"sk-top-container\"><div class=\"sk-text-repr-fallback\"><pre>RandomForestClassifier(max_depth=20)</pre><b>In a Jupyter environment, please rerun this cell to show the HTML representation or trust the notebook. <br />On GitHub, the HTML representation is unable to render, please try loading this page with nbviewer.org.</b></div><div class=\"sk-container\" hidden><div class=\"sk-item\"><div class=\"sk-estimator sk-toggleable\"><input class=\"sk-toggleable__control sk-hidden--visually\" id=\"sk-estimator-id-2\" type=\"checkbox\" checked><label for=\"sk-estimator-id-2\" class=\"sk-toggleable__label sk-toggleable__label-arrow\">RandomForestClassifier</label><div class=\"sk-toggleable__content\"><pre>RandomForestClassifier(max_depth=20)</pre></div></div></div></div></div>"
      ],
      "text/plain": [
       "RandomForestClassifier(max_depth=20)"
      ]
     },
     "execution_count": 27,
     "metadata": {},
     "output_type": "execute_result"
    }
   ],
   "source": [
    "clf = RandomForestClassifier(max_depth=20)\n",
    "clf.fit(X_train, y_train)"
   ]
  },
  {
   "cell_type": "markdown",
   "id": "018e01fb-07ab-406d-90a2-4069e58a415a",
   "metadata": {},
   "source": [
    "### Check prediction quality of the model"
   ]
  },
  {
   "cell_type": "code",
   "execution_count": 28,
   "id": "8af525b7-975d-4aea-a137-208695e4fc1f",
   "metadata": {},
   "outputs": [],
   "source": [
    "y_hat = clf.predict(X_test)"
   ]
  },
  {
   "cell_type": "code",
   "execution_count": 29,
   "id": "29500cf1-4741-459d-8a44-654133567ce9",
   "metadata": {},
   "outputs": [],
   "source": [
    "cm = confusion_matrix(y_test, y_hat)"
   ]
  },
  {
   "cell_type": "code",
   "execution_count": 30,
   "id": "6e23f7f2-33c6-4954-9618-91ed667ef641",
   "metadata": {},
   "outputs": [
    {
     "data": {
      "text/plain": [
       "<sklearn.metrics._plot.confusion_matrix.ConfusionMatrixDisplay at 0x1d538595e90>"
      ]
     },
     "execution_count": 30,
     "metadata": {},
     "output_type": "execute_result"
    },
    {
     "data": {
      "image/png": "[encoded data removed]",
      "text/plain": [
       "<Figure size 640x480 with 2 Axes>"
      ]
     },
     "metadata": {},
     "output_type": "display_data"
    }
   ],
   "source": [
    "cmd = ConfusionMatrixDisplay(cm)\n",
    "cmd.plot()"
   ]
  },
  {
   "cell_type": "code",
   "execution_count": 31,
   "id": "3cc78492-1004-4df0-9067-1d96d6ae2482",
   "metadata": {},
   "outputs": [
    {
     "name": "stdout",
     "output_type": "stream",
     "text": [
      "              precision    recall  f1-score   support\n",
      "\n",
      "           1       0.00      0.00      0.00        35\n",
      "           2       0.90      0.97      0.93     24409\n",
      "           3       0.00      0.00      0.00       838\n",
      "           4       0.00      0.00      0.00      1036\n",
      "           5       0.95      0.95      0.95     23508\n",
      "           6       1.00      0.49      0.66       171\n",
      "          65       0.00      0.00      0.00         2\n",
      "          67       0.00      0.00      0.00         1\n",
      "\n",
      "    accuracy                           0.92     50000\n",
      "   macro avg       0.36      0.30      0.32     50000\n",
      "weighted avg       0.89      0.92      0.90     50000\n",
      "\n"
     ]
    }
   ],
   "source": [
    "print(classification_report(y_test, y_hat))"
   ]
  },
  {
   "cell_type": "markdown",
   "id": "fe568fcb-285a-496c-bfc2-4a46434347fa",
   "metadata": {},
   "source": [
    "## Deep neural network"
   ]
  },
  {
   "cell_type": "markdown",
   "id": "2e84f615-c28e-4681-b3b0-5ed0deba1ee4",
   "metadata": {},
   "source": [
    "### Initialize model"
   ]
  },
  {
   "cell_type": "code",
   "execution_count": 32,
   "id": "1a4a688d-32ae-4074-870d-099e3e17a211",
   "metadata": {},
   "outputs": [],
   "source": [
    "y_train = y_train.apply(lambda x: x-1 if x<60  else (6 if x==65 else 7))\n",
    "y_test = y_test.apply(lambda x: x-1 if x<60 else (6 if x==65 else 7))"
   ]
  },
  {
   "cell_type": "code",
   "execution_count": 33,
   "id": "1888e450-73e5-46c4-90fe-22d8529e59cf",
   "metadata": {},
   "outputs": [],
   "source": [
    "num_classes=8\n",
    "epochnum = 50\n",
    "batch_size = 32\n",
    "val_split = 0.2\n",
    "LR=1e-3\n",
    "\n",
    "def custom_LearningRate_schedular(epoch, learning_rate=1e-3, max_epoch=epochnum, power=0.9):\n",
    "    new_lr = learning_rate * tf.math.pow((1 - epoch/max_epoch), power)\n",
    "    print(f\"learning rate : {new_lr}\")\n",
    "    return new_lr\n",
    "\n",
    "callbacks = [\n",
    "    tf.keras.callbacks.LearningRateScheduler(custom_LearningRate_schedular),\n",
    "    tf.keras.callbacks.EarlyStopping(patience=10, start_from_epoch=10)\n",
    "]\n",
    "\n",
    "\n",
    "# Build the neural network model\n",
    "model = tf.keras.Sequential([\n",
    "    tf.keras.layers.Input(shape=(final_X.shape[1],)),  # Input layer\n",
    "    tf.keras.layers.Dense(20, kernel_regularizer='l2', activation='relu'),  # First hidden layer with 20 units and ReLU activation\n",
    "    tf.keras.layers.Dense(15, kernel_regularizer='l2', activation='relu'),  # Second hidden layer with 15 units and ReLU activation\n",
    "    tf.keras.layers.Dense(num_classes, activation='softmax') # Output layer\n",
    "])\n",
    "\n",
    "# Compile the model\n",
    "model.compile(optimizer=tf.keras.optimizers.Adam(learning_rate=LR), loss='sparse_categorical_crossentropy', metrics=['accuracy'])"
   ]
  },
  {
   "cell_type": "code",
   "execution_count": 34,
   "id": "944be80d-ae9c-4754-b438-d203da0489a2",
   "metadata": {},
   "outputs": [
    {
     "name": "stdout",
     "output_type": "stream",
     "text": [
      "Model: \"sequential\"\n",
      "_________________________________________________________________\n",
      " Layer (type)                Output Shape              Param #   \n",
      "=================================================================\n",
      " dense (Dense)               (None, 20)                820       \n",
      "                                                                 \n",
      " dense_1 (Dense)             (None, 15)                315       \n",
      "                                                                 \n",
      " dense_2 (Dense)             (None, 8)                 128       \n",
      "                                                                 \n",
      "=================================================================\n",
      "Total params: 1263 (4.93 KB)\n",
      "Trainable params: 1263 (4.93 KB)\n",
      "Non-trainable params: 0 (0.00 Byte)\n",
      "_________________________________________________________________\n"
     ]
    }
   ],
   "source": [
    "model.summary()"
   ]
  },
  {
   "cell_type": "markdown",
   "id": "c9c30eab-2bcc-4a2b-b042-52c10b976f98",
   "metadata": {},
   "source": [
    "### Train model"
   ]
  },
  {
   "cell_type": "code",
   "execution_count": 35,
   "id": "feccf42d-f3d8-44ac-b815-3230e4959117",
   "metadata": {
    "scrolled": true,
    "tags": []
   },
   "outputs": [
    {
     "name": "stdout",
     "output_type": "stream",
     "text": [
      "Epoch 1/50\n",
      "11250/11250 [==============================] - 13s 1ms/step - loss: 84.2815 - accuracy: 0.6864 - val_loss: 1.0697 - val_accuracy: 0.5926\n",
      "Epoch 2/50\n",
      "11250/11250 [==============================] - 12s 1ms/step - loss: 0.8901 - accuracy: 0.6607 - val_loss: 0.7725 - val_accuracy: 0.7175\n",
      "Epoch 3/50\n",
      "11250/11250 [==============================] - 12s 1ms/step - loss: 0.6129 - accuracy: 0.8155 - val_loss: 0.3812 - val_accuracy: 0.9124\n",
      "Epoch 4/50\n",
      "11250/11250 [==============================] - 13s 1ms/step - loss: 0.4793 - accuracy: 0.8730 - val_loss: 0.3384 - val_accuracy: 0.9170\n",
      "Epoch 5/50\n",
      "11250/11250 [==============================] - 13s 1ms/step - loss: 0.3491 - accuracy: 0.9112 - val_loss: 0.3208 - val_accuracy: 0.9183\n",
      "Epoch 6/50\n",
      "11250/11250 [==============================] - 13s 1ms/step - loss: 0.3284 - accuracy: 0.9135 - val_loss: 0.3146 - val_accuracy: 0.9160\n",
      "Epoch 7/50\n",
      "11250/11250 [==============================] - 14s 1ms/step - loss: 0.3314 - accuracy: 0.9130 - val_loss: 0.3431 - val_accuracy: 0.9128\n",
      "Epoch 8/50\n",
      "11250/11250 [==============================] - 13s 1ms/step - loss: 0.3283 - accuracy: 0.9138 - val_loss: 0.4153 - val_accuracy: 0.8907\n",
      "Epoch 9/50\n",
      "11250/11250 [==============================] - 13s 1ms/step - loss: 0.3223 - accuracy: 0.9140 - val_loss: 0.3249 - val_accuracy: 0.9084\n",
      "Epoch 10/50\n",
      "11250/11250 [==============================] - 13s 1ms/step - loss: 0.3141 - accuracy: 0.9154 - val_loss: 0.3048 - val_accuracy: 0.9204\n",
      "Epoch 11/50\n",
      "11250/11250 [==============================] - 13s 1ms/step - loss: 0.3124 - accuracy: 0.9155 - val_loss: 0.3158 - val_accuracy: 0.9123\n",
      "Epoch 12/50\n",
      "11250/11250 [==============================] - 13s 1ms/step - loss: 0.3254 - accuracy: 0.9126 - val_loss: 0.3317 - val_accuracy: 0.9132\n",
      "Epoch 13/50\n",
      "11250/11250 [==============================] - 13s 1ms/step - loss: 0.3172 - accuracy: 0.9147 - val_loss: 0.3132 - val_accuracy: 0.9179\n",
      "Epoch 14/50\n",
      "11250/11250 [==============================] - 13s 1ms/step - loss: 0.3210 - accuracy: 0.9135 - val_loss: 0.3112 - val_accuracy: 0.9149\n",
      "Epoch 15/50\n",
      "11250/11250 [==============================] - 13s 1ms/step - loss: 0.3173 - accuracy: 0.9141 - val_loss: 0.3142 - val_accuracy: 0.9157\n",
      "Epoch 16/50\n",
      "11250/11250 [==============================] - 13s 1ms/step - loss: 0.3172 - accuracy: 0.9153 - val_loss: 0.3837 - val_accuracy: 0.9061\n",
      "Epoch 17/50\n",
      "11250/11250 [==============================] - 13s 1ms/step - loss: 0.3195 - accuracy: 0.9142 - val_loss: 0.3127 - val_accuracy: 0.9183\n",
      "Epoch 18/50\n",
      "11250/11250 [==============================] - 13s 1ms/step - loss: 0.3208 - accuracy: 0.9137 - val_loss: 0.3178 - val_accuracy: 0.9147\n",
      "Epoch 19/50\n",
      "11250/11250 [==============================] - 13s 1ms/step - loss: 0.3229 - accuracy: 0.9135 - val_loss: 0.3034 - val_accuracy: 0.9161\n",
      "Epoch 20/50\n",
      "11250/11250 [==============================] - 13s 1ms/step - loss: 0.3156 - accuracy: 0.9138 - val_loss: 0.3029 - val_accuracy: 0.9149\n",
      "Epoch 21/50\n",
      "11250/11250 [==============================] - 13s 1ms/step - loss: 0.3215 - accuracy: 0.9141 - val_loss: 0.2940 - val_accuracy: 0.9176\n",
      "Epoch 22/50\n",
      "11250/11250 [==============================] - 13s 1ms/step - loss: 0.3180 - accuracy: 0.9144 - val_loss: 0.3014 - val_accuracy: 0.9186\n",
      "Epoch 23/50\n",
      "11250/11250 [==============================] - 13s 1ms/step - loss: 0.3122 - accuracy: 0.9148 - val_loss: 0.3078 - val_accuracy: 0.9162\n",
      "Epoch 24/50\n",
      "11250/11250 [==============================] - 13s 1ms/step - loss: 0.3083 - accuracy: 0.9157 - val_loss: 0.3090 - val_accuracy: 0.9141\n",
      "Epoch 25/50\n",
      "11250/11250 [==============================] - 13s 1ms/step - loss: 0.3087 - accuracy: 0.9159 - val_loss: 0.3016 - val_accuracy: 0.9145\n",
      "Epoch 26/50\n",
      "11250/11250 [==============================] - 13s 1ms/step - loss: 0.3072 - accuracy: 0.9158 - val_loss: 0.2857 - val_accuracy: 0.9190\n",
      "Epoch 27/50\n",
      "11250/11250 [==============================] - 13s 1ms/step - loss: 0.3081 - accuracy: 0.9146 - val_loss: 0.2928 - val_accuracy: 0.9208\n",
      "Epoch 28/50\n",
      "11250/11250 [==============================] - 13s 1ms/step - loss: 0.3098 - accuracy: 0.9139 - val_loss: 0.3057 - val_accuracy: 0.9172\n",
      "Epoch 29/50\n",
      "11250/11250 [==============================] - 13s 1ms/step - loss: 0.3102 - accuracy: 0.9157 - val_loss: 0.2883 - val_accuracy: 0.9207\n",
      "Epoch 30/50\n",
      "11250/11250 [==============================] - 13s 1ms/step - loss: 0.3056 - accuracy: 0.9152 - val_loss: 0.3187 - val_accuracy: 0.9106\n",
      "Epoch 31/50\n",
      "11250/11250 [==============================] - 13s 1ms/step - loss: 0.3007 - accuracy: 0.9159 - val_loss: 0.3065 - val_accuracy: 0.9177\n",
      "Epoch 32/50\n",
      "11250/11250 [==============================] - 13s 1ms/step - loss: 0.2996 - accuracy: 0.9163 - val_loss: 0.3071 - val_accuracy: 0.9140\n",
      "Epoch 33/50\n",
      "11250/11250 [==============================] - 13s 1ms/step - loss: 0.3017 - accuracy: 0.9155 - val_loss: 0.2973 - val_accuracy: 0.9171\n",
      "Epoch 34/50\n",
      "11250/11250 [==============================] - 13s 1ms/step - loss: 0.3015 - accuracy: 0.9158 - val_loss: 0.2817 - val_accuracy: 0.9197\n",
      "Epoch 35/50\n",
      "11250/11250 [==============================] - 13s 1ms/step - loss: 0.3068 - accuracy: 0.9151 - val_loss: 0.2986 - val_accuracy: 0.9219\n",
      "Epoch 36/50\n",
      "11250/11250 [==============================] - 13s 1ms/step - loss: 0.2969 - accuracy: 0.9168 - val_loss: 0.2784 - val_accuracy: 0.9208\n",
      "Epoch 37/50\n",
      "11250/11250 [==============================] - 13s 1ms/step - loss: 0.2967 - accuracy: 0.9164 - val_loss: 0.2918 - val_accuracy: 0.9166\n",
      "Epoch 38/50\n",
      "11250/11250 [==============================] - 13s 1ms/step - loss: 0.3003 - accuracy: 0.9163 - val_loss: 0.3006 - val_accuracy: 0.9206\n",
      "Epoch 39/50\n",
      "11250/11250 [==============================] - 13s 1ms/step - loss: 0.2982 - accuracy: 0.9173 - val_loss: 0.3193 - val_accuracy: 0.9109\n",
      "Epoch 40/50\n",
      "11250/11250 [==============================] - 13s 1ms/step - loss: 0.2965 - accuracy: 0.9175 - val_loss: 0.3128 - val_accuracy: 0.9129\n",
      "Epoch 41/50\n",
      "11250/11250 [==============================] - 13s 1ms/step - loss: 0.2968 - accuracy: 0.9168 - val_loss: 0.2812 - val_accuracy: 0.9218\n",
      "Epoch 42/50\n",
      "11250/11250 [==============================] - 13s 1ms/step - loss: 0.2963 - accuracy: 0.9172 - val_loss: 0.2905 - val_accuracy: 0.9192\n",
      "Epoch 43/50\n",
      "11250/11250 [==============================] - 13s 1ms/step - loss: 0.2965 - accuracy: 0.9171 - val_loss: 0.3053 - val_accuracy: 0.9174\n",
      "Epoch 44/50\n",
      "11250/11250 [==============================] - 13s 1ms/step - loss: 0.2965 - accuracy: 0.9171 - val_loss: 0.3111 - val_accuracy: 0.9110\n",
      "Epoch 45/50\n",
      "11250/11250 [==============================] - 13s 1ms/step - loss: 0.2959 - accuracy: 0.9171 - val_loss: 0.2925 - val_accuracy: 0.9186\n",
      "Epoch 46/50\n",
      "11250/11250 [==============================] - 13s 1ms/step - loss: 0.2969 - accuracy: 0.9171 - val_loss: 0.2980 - val_accuracy: 0.9174\n",
      "Epoch 47/50\n",
      "11250/11250 [==============================] - 13s 1ms/step - loss: 0.2957 - accuracy: 0.9174 - val_loss: 0.2910 - val_accuracy: 0.9210\n",
      "Epoch 48/50\n",
      "11250/11250 [==============================] - 13s 1ms/step - loss: 0.2961 - accuracy: 0.9171 - val_loss: 0.2857 - val_accuracy: 0.9214\n",
      "Epoch 49/50\n",
      "11250/11250 [==============================] - 13s 1ms/step - loss: 0.2962 - accuracy: 0.9170 - val_loss: 0.2830 - val_accuracy: 0.9223\n",
      "Epoch 50/50\n",
      "11250/11250 [==============================] - 13s 1ms/step - loss: 0.2964 - accuracy: 0.9172 - val_loss: 0.3085 - val_accuracy: 0.9167\n"
     ]
    }
   ],
   "source": [
    "# Train the model\n",
    "history = model.fit(X_train, y_train, epochs=epochnum, batch_size=batch_size, validation_split=val_split)"
   ]
  },
  {
   "cell_type": "markdown",
   "id": "5a037225-fe02-419f-b6de-0db6a7ae0fd2",
   "metadata": {},
   "source": [
    "### Evaluate prediction quality of the model"
   ]
  },
  {
   "cell_type": "code",
   "execution_count": 36,
   "id": "400bdcd3-3430-4deb-9fa4-86889f91d068",
   "metadata": {},
   "outputs": [
    {
     "name": "stdout",
     "output_type": "stream",
     "text": [
      "1563/1563 [==============================] - 1s 885us/step - loss: 0.3181 - accuracy: 0.9137\n",
      "Test Accuracy: 91.37%\n"
     ]
    }
   ],
   "source": [
    "# Evaluate the model on the test set\n",
    "loss, accuracy = model.evaluate(X_test, y_test)\n",
    "print(f'Test Accuracy: {accuracy * 100:.2f}%')"
   ]
  },
  {
   "cell_type": "code",
   "execution_count": 37,
   "id": "5b228e04-6871-4e7c-a26b-ac5e6198a055",
   "metadata": {},
   "outputs": [
    {
     "name": "stdout",
     "output_type": "stream",
     "text": [
      "1563/1563 [==============================] - 1s 748us/step\n",
      "              precision    recall  f1-score   support\n",
      "\n",
      "           0       0.00      0.00      0.00        35\n",
      "           1       0.88      0.97      0.92     24409\n",
      "           2       0.00      0.00      0.00       838\n",
      "           3       0.00      0.00      0.00      1036\n",
      "           4       0.95      0.93      0.94     23508\n",
      "           5       0.00      0.00      0.00       171\n",
      "           6       0.00      0.00      0.00         2\n",
      "           7       0.00      0.00      0.00         1\n",
      "\n",
      "    accuracy                           0.91     50000\n",
      "   macro avg       0.23      0.24      0.23     50000\n",
      "weighted avg       0.88      0.91      0.89     50000\n",
      "\n"
     ]
    }
   ],
   "source": [
    "# Make predictions on the test set\n",
    "y_pred = model.predict(X_test)\n",
    "y_pred_classes = np.argmax(y_pred, axis=1)\n",
    "\n",
    "# # Decode integer labels back to original class labels\n",
    "# y_test_original = label_encoder.inverse_transform(y_test_encoded)\n",
    "# y_pred_original = label_encoder.inverse_transform(y_pred_classes)\n",
    "\n",
    "# Display classification report\n",
    "print(classification_report(y_test, y_pred_classes))"
   ]
  },
  {
   "cell_type": "code",
   "execution_count": 38,
   "id": "e501e1ba-80bf-4d5e-b057-f9ca0956160e",
   "metadata": {},
   "outputs": [
    {
     "data": {
      "text/plain": [
       "<sklearn.metrics._plot.confusion_matrix.ConfusionMatrixDisplay at 0x1d5330b4910>"
      ]
     },
     "execution_count": 38,
     "metadata": {},
     "output_type": "execute_result"
    },
    {
     "data": {
      "image/png": "[encoded data removed]",
      "text/plain": [
       "<Figure size 640x480 with 2 Axes>"
      ]
     },
     "metadata": {},
     "output_type": "display_data"
    }
   ],
   "source": [
    "cm = confusion_matrix(y_test, y_pred_classes)\n",
    "cmd = ConfusionMatrixDisplay(cm)\n",
    "cmd.plot()"
   ]
  },
  {
   "cell_type": "markdown",
   "id": "3f83e66e-c776-4cc2-9ccf-70c230298f9b",
   "metadata": {},
   "source": [
    "## Resampling to try to mitigate effect of unbalanced dataset"
   ]
  },
  {
   "cell_type": "code",
   "execution_count": 39,
   "id": "321b8a58-4a5e-4204-96b7-72b6d4886240",
   "metadata": {},
   "outputs": [
    {
     "data": {
      "text/plain": [
       "classification\n",
       "1    220649\n",
       "4    211171\n",
       "3      8889\n",
       "2      7531\n",
       "5      1474\n",
       "0       271\n",
       "6         8\n",
       "7         7\n",
       "Name: count, dtype: int64"
      ]
     },
     "execution_count": 39,
     "metadata": {},
     "output_type": "execute_result"
    }
   ],
   "source": [
    "y_train.value_counts()"
   ]
  },
  {
   "cell_type": "code",
   "execution_count": 40,
   "id": "9f473b03-1e82-43e5-99fb-a3078645c745",
   "metadata": {},
   "outputs": [],
   "source": [
    "X_train_0 = X_train[(y_train == 0).values]\n",
    "X_train_1 = X_train[(y_train == 1).values]\n",
    "X_train_2 = X_train[(y_train == 2).values]\n",
    "X_train_3 = X_train[(y_train == 3).values]\n",
    "X_train_4 = X_train[(y_train == 4).values]\n",
    "X_train_5 = X_train[(y_train == 5).values]\n",
    "X_train_6 = X_train[(y_train == 6).values]\n",
    "X_train_7 = X_train[(y_train == 7).values]"
   ]
  },
  {
   "cell_type": "code",
   "execution_count": 41,
   "id": "4d50e2e3-43ad-4759-b703-ef970a31cc43",
   "metadata": {},
   "outputs": [],
   "source": [
    "y_train_0 = y_train[(y_train == 0).values]\n",
    "y_train_1 = y_train[(y_train == 1).values]\n",
    "y_train_2 = y_train[(y_train == 2).values]\n",
    "y_train_3 = y_train[(y_train == 3).values]\n",
    "y_train_4 = y_train[(y_train == 4).values]\n",
    "y_train_5 = y_train[(y_train == 5).values]\n",
    "y_train_6 = y_train[(y_train == 6).values]\n",
    "y_train_7 = y_train[(y_train == 7).values]"
   ]
  },
  {
   "cell_type": "code",
   "execution_count": 42,
   "id": "737690ee-7581-4caa-a2e0-9386e33bd322",
   "metadata": {},
   "outputs": [],
   "source": [
    "idx = np.random.randint(0, len(X_train_2), 1500)\n",
    "X_train_2 = X_train_2[idx]\n",
    "y_train_2 = y_train_2.iloc[idx]\n",
    "\n",
    "idx = np.random.randint(0, len(X_train_3), 1500)\n",
    "X_train_3 = X_train_3[idx]\n",
    "y_train_3 = y_train_3.iloc[idx]\n",
    "\n",
    "idx = np.random.randint(0, len(X_train_4), 1500)\n",
    "X_train_4 = X_train_4[idx]\n",
    "y_train_4 = y_train_4.iloc[idx]\n",
    "\n",
    "idx = np.random.randint(0, len(X_train_1), 1500)\n",
    "X_train_1 = X_train_1[idx]\n",
    "y_train_1 = y_train_1.iloc[idx]"
   ]
  },
  {
   "cell_type": "code",
   "execution_count": 43,
   "id": "cea27c3c-627d-44b7-a1b6-de8d96f36ffd",
   "metadata": {},
   "outputs": [
    {
     "data": {
      "text/plain": [
       "(7760, 40)"
      ]
     },
     "execution_count": 43,
     "metadata": {},
     "output_type": "execute_result"
    }
   ],
   "source": [
    "resampled_features = np.concatenate([X_train_0, X_train_1, X_train_2, X_train_3, X_train_4, X_train_5, X_train_6, X_train_7], axis=0)\n",
    "resampled_labels = np.concatenate([y_train_0, y_train_1, y_train_2, y_train_3, y_train_4, y_train_5, y_train_6, y_train_7], axis=0)\n",
    "\n",
    "order = np.arange(len(resampled_labels))\n",
    "np.random.shuffle(order)\n",
    "resampled_features = resampled_features[order]\n",
    "resampled_labels = resampled_labels[order]\n",
    "\n",
    "resampled_features.shape"
   ]
  },
  {
   "cell_type": "code",
   "execution_count": 44,
   "id": "33f9d010-2e92-483d-98f1-8e58c796f712",
   "metadata": {},
   "outputs": [
    {
     "data": {
      "text/plain": [
       "4    1500\n",
       "3    1500\n",
       "2    1500\n",
       "1    1500\n",
       "5    1474\n",
       "0     271\n",
       "6       8\n",
       "7       7\n",
       "Name: count, dtype: int64"
      ]
     },
     "execution_count": 44,
     "metadata": {},
     "output_type": "execute_result"
    }
   ],
   "source": [
    "pd.Series(resampled_labels).value_counts()"
   ]
  },
  {
   "cell_type": "code",
   "execution_count": 45,
   "id": "0f3480cd-debb-4c80-a159-b2e46bfd1816",
   "metadata": {},
   "outputs": [],
   "source": [
    "num_classes=8\n",
    "epochnum = 50\n",
    "batch_size = 32\n",
    "val_split = 0.2\n",
    "LR=1e-3\n",
    "\n",
    "\n",
    "callbacks = [\n",
    "    # tf.keras.callbacks.LearningRateScheduler(custom_LearningRate_schedular),\n",
    "    tf.keras.callbacks.EarlyStopping(patience=20, start_from_epoch=20)\n",
    "]\n",
    "\n",
    "\n",
    "# Build the neural network model\n",
    "model = tf.keras.Sequential([\n",
    "    tf.keras.layers.Input(shape=(final_X.shape[1],)),  # Input layer\n",
    "    tf.keras.layers.Dense(20, kernel_regularizer='l2', activation='relu'),  # First hidden layer with 20 units and ReLU activation\n",
    "    tf.keras.layers.Dense(15, kernel_regularizer='l2', activation='relu'),  # Second hidden layer with 15 units and ReLU activation\n",
    "    tf.keras.layers.Dense(num_classes, activation='softmax') # Output layer\n",
    "])\n",
    "\n",
    "# Compile the model\n",
    "model.compile(optimizer=tf.keras.optimizers.Adam(learning_rate=LR), loss='sparse_categorical_crossentropy', metrics=['accuracy'])"
   ]
  },
  {
   "cell_type": "code",
   "execution_count": 46,
   "id": "014fbab3-a69d-46ef-b31b-3bdc50859fdb",
   "metadata": {
    "scrolled": true,
    "tags": []
   },
   "outputs": [
    {
     "name": "stdout",
     "output_type": "stream",
     "text": [
      "Epoch 1/100\n",
      "194/194 [==============================] - 1s 2ms/step - loss: 3594.0083 - accuracy: 0.2867 - val_loss: 776.3781 - val_accuracy: 0.3640\n",
      "Epoch 2/100\n",
      "194/194 [==============================] - 0s 1ms/step - loss: 581.3692 - accuracy: 0.3773 - val_loss: 445.9157 - val_accuracy: 0.3183\n",
      "Epoch 3/100\n",
      "194/194 [==============================] - 0s 1ms/step - loss: 389.5414 - accuracy: 0.4196 - val_loss: 308.0770 - val_accuracy: 0.4568\n",
      "Epoch 4/100\n",
      "194/194 [==============================] - 0s 1ms/step - loss: 288.2457 - accuracy: 0.4409 - val_loss: 247.5254 - val_accuracy: 0.4375\n",
      "Epoch 5/100\n",
      "194/194 [==============================] - 0s 1ms/step - loss: 235.4704 - accuracy: 0.4630 - val_loss: 174.9812 - val_accuracy: 0.4671\n",
      "Epoch 6/100\n",
      "194/194 [==============================] - 0s 1ms/step - loss: 197.9753 - accuracy: 0.4752 - val_loss: 182.0467 - val_accuracy: 0.4936\n",
      "Epoch 7/100\n",
      "194/194 [==============================] - 0s 1ms/step - loss: 165.5967 - accuracy: 0.4939 - val_loss: 153.5963 - val_accuracy: 0.5006\n",
      "Epoch 8/100\n",
      "194/194 [==============================] - 0s 1ms/step - loss: 153.6282 - accuracy: 0.5018 - val_loss: 131.9080 - val_accuracy: 0.5180\n",
      "Epoch 9/100\n",
      "194/194 [==============================] - 0s 1ms/step - loss: 145.1013 - accuracy: 0.5089 - val_loss: 139.6366 - val_accuracy: 0.4678\n",
      "Epoch 10/100\n",
      "194/194 [==============================] - 0s 1ms/step - loss: 119.2461 - accuracy: 0.5362 - val_loss: 110.6331 - val_accuracy: 0.5329\n",
      "Epoch 11/100\n",
      "194/194 [==============================] - 0s 1ms/step - loss: 120.9252 - accuracy: 0.5275 - val_loss: 112.5482 - val_accuracy: 0.5309\n",
      "Epoch 12/100\n",
      "194/194 [==============================] - 0s 1ms/step - loss: 117.4002 - accuracy: 0.5229 - val_loss: 110.3982 - val_accuracy: 0.5155\n",
      "Epoch 13/100\n",
      "194/194 [==============================] - 0s 1ms/step - loss: 106.5530 - accuracy: 0.5449 - val_loss: 118.0609 - val_accuracy: 0.5335\n",
      "Epoch 14/100\n",
      "194/194 [==============================] - 0s 1ms/step - loss: 103.5504 - accuracy: 0.5520 - val_loss: 93.1471 - val_accuracy: 0.5438\n",
      "Epoch 15/100\n",
      "194/194 [==============================] - 0s 1ms/step - loss: 101.6627 - accuracy: 0.5457 - val_loss: 109.3616 - val_accuracy: 0.5322\n",
      "Epoch 16/100\n",
      "194/194 [==============================] - 0s 1ms/step - loss: 92.5057 - accuracy: 0.5662 - val_loss: 72.0975 - val_accuracy: 0.5863\n",
      "Epoch 17/100\n",
      "194/194 [==============================] - 0s 1ms/step - loss: 90.2542 - accuracy: 0.5556 - val_loss: 92.4731 - val_accuracy: 0.5773\n",
      "Epoch 18/100\n",
      "194/194 [==============================] - 0s 1ms/step - loss: 87.5307 - accuracy: 0.5651 - val_loss: 79.9340 - val_accuracy: 0.5168\n",
      "Epoch 19/100\n",
      "194/194 [==============================] - 0s 1ms/step - loss: 86.3771 - accuracy: 0.5619 - val_loss: 76.4266 - val_accuracy: 0.5651\n",
      "Epoch 20/100\n",
      "194/194 [==============================] - 0s 1ms/step - loss: 75.6951 - accuracy: 0.5735 - val_loss: 86.5888 - val_accuracy: 0.6173\n",
      "Epoch 21/100\n",
      "194/194 [==============================] - 0s 1ms/step - loss: 80.8791 - accuracy: 0.5752 - val_loss: 78.8266 - val_accuracy: 0.5406\n",
      "Epoch 22/100\n",
      "194/194 [==============================] - 0s 1ms/step - loss: 76.3175 - accuracy: 0.5714 - val_loss: 92.8626 - val_accuracy: 0.5709\n",
      "Epoch 23/100\n",
      "194/194 [==============================] - 0s 1ms/step - loss: 70.8873 - accuracy: 0.5696 - val_loss: 67.4599 - val_accuracy: 0.5741\n",
      "Epoch 24/100\n",
      "194/194 [==============================] - 0s 1ms/step - loss: 75.6438 - accuracy: 0.5755 - val_loss: 65.3174 - val_accuracy: 0.5876\n",
      "Epoch 25/100\n",
      "194/194 [==============================] - 0s 1ms/step - loss: 64.4994 - accuracy: 0.5900 - val_loss: 73.5008 - val_accuracy: 0.5625\n",
      "Epoch 26/100\n",
      "194/194 [==============================] - 0s 1ms/step - loss: 71.3944 - accuracy: 0.5812 - val_loss: 81.9952 - val_accuracy: 0.5541\n",
      "Epoch 27/100\n",
      "194/194 [==============================] - 0s 1ms/step - loss: 75.2170 - accuracy: 0.5707 - val_loss: 79.9495 - val_accuracy: 0.5863\n",
      "Epoch 28/100\n",
      "194/194 [==============================] - 0s 1ms/step - loss: 68.5267 - accuracy: 0.5900 - val_loss: 51.4094 - val_accuracy: 0.6140\n",
      "Epoch 29/100\n",
      "194/194 [==============================] - 0s 1ms/step - loss: 59.9869 - accuracy: 0.5881 - val_loss: 69.5802 - val_accuracy: 0.5387\n",
      "Epoch 30/100\n",
      "194/194 [==============================] - 0s 1ms/step - loss: 61.2527 - accuracy: 0.5839 - val_loss: 63.1120 - val_accuracy: 0.5767\n",
      "Epoch 31/100\n",
      "194/194 [==============================] - 0s 1ms/step - loss: 57.3370 - accuracy: 0.5905 - val_loss: 56.4578 - val_accuracy: 0.5812\n",
      "Epoch 32/100\n",
      "194/194 [==============================] - 0s 1ms/step - loss: 57.6854 - accuracy: 0.5881 - val_loss: 88.6792 - val_accuracy: 0.4575\n",
      "Epoch 33/100\n",
      "194/194 [==============================] - 0s 1ms/step - loss: 59.6518 - accuracy: 0.5881 - val_loss: 57.3308 - val_accuracy: 0.5747\n",
      "Epoch 34/100\n",
      "194/194 [==============================] - 0s 1ms/step - loss: 49.6018 - accuracy: 0.5933 - val_loss: 48.9928 - val_accuracy: 0.5915\n",
      "Epoch 35/100\n",
      "194/194 [==============================] - 0s 1ms/step - loss: 54.4846 - accuracy: 0.5888 - val_loss: 61.8633 - val_accuracy: 0.5747\n",
      "Epoch 36/100\n",
      "194/194 [==============================] - 0s 1ms/step - loss: 54.3024 - accuracy: 0.5900 - val_loss: 53.9187 - val_accuracy: 0.6153\n",
      "Epoch 37/100\n",
      "194/194 [==============================] - 0s 1ms/step - loss: 47.4860 - accuracy: 0.5950 - val_loss: 60.4457 - val_accuracy: 0.5844\n",
      "Epoch 38/100\n",
      "194/194 [==============================] - 0s 1ms/step - loss: 49.7141 - accuracy: 0.5949 - val_loss: 50.8395 - val_accuracy: 0.5606\n",
      "Epoch 39/100\n",
      "194/194 [==============================] - 0s 1ms/step - loss: 51.4230 - accuracy: 0.5933 - val_loss: 51.2958 - val_accuracy: 0.6005\n",
      "Epoch 40/100\n",
      "194/194 [==============================] - 0s 1ms/step - loss: 48.0595 - accuracy: 0.5852 - val_loss: 66.6228 - val_accuracy: 0.5561\n",
      "Epoch 41/100\n",
      "194/194 [==============================] - 0s 1ms/step - loss: 48.6279 - accuracy: 0.5904 - val_loss: 56.9317 - val_accuracy: 0.5432\n",
      "Epoch 42/100\n",
      "194/194 [==============================] - 0s 1ms/step - loss: 44.2388 - accuracy: 0.5871 - val_loss: 43.3062 - val_accuracy: 0.6057\n",
      "Epoch 43/100\n",
      "194/194 [==============================] - 0s 1ms/step - loss: 41.1048 - accuracy: 0.5991 - val_loss: 49.3228 - val_accuracy: 0.5399\n",
      "Epoch 44/100\n",
      "194/194 [==============================] - 0s 1ms/step - loss: 44.3689 - accuracy: 0.5926 - val_loss: 43.3877 - val_accuracy: 0.5921\n",
      "Epoch 45/100\n",
      "194/194 [==============================] - 0s 1ms/step - loss: 38.9402 - accuracy: 0.5960 - val_loss: 53.6068 - val_accuracy: 0.5316\n",
      "Epoch 46/100\n",
      "194/194 [==============================] - 0s 1ms/step - loss: 42.3499 - accuracy: 0.5923 - val_loss: 45.5944 - val_accuracy: 0.5754\n",
      "Epoch 47/100\n",
      "194/194 [==============================] - 0s 1ms/step - loss: 40.2220 - accuracy: 0.5842 - val_loss: 37.6362 - val_accuracy: 0.6353\n",
      "Epoch 48/100\n",
      "194/194 [==============================] - 0s 1ms/step - loss: 38.3139 - accuracy: 0.5989 - val_loss: 30.5376 - val_accuracy: 0.6334\n",
      "Epoch 49/100\n",
      "194/194 [==============================] - 0s 1ms/step - loss: 37.7860 - accuracy: 0.6031 - val_loss: 44.8551 - val_accuracy: 0.6160\n",
      "Epoch 50/100\n",
      "194/194 [==============================] - 0s 1ms/step - loss: 36.4352 - accuracy: 0.6024 - val_loss: 40.1890 - val_accuracy: 0.5303\n",
      "Epoch 51/100\n",
      "194/194 [==============================] - 0s 1ms/step - loss: 38.8844 - accuracy: 0.5892 - val_loss: 32.7981 - val_accuracy: 0.6076\n",
      "Epoch 52/100\n",
      "194/194 [==============================] - 0s 1ms/step - loss: 37.0161 - accuracy: 0.6049 - val_loss: 38.2692 - val_accuracy: 0.5651\n",
      "Epoch 53/100\n",
      "194/194 [==============================] - 0s 1ms/step - loss: 34.0429 - accuracy: 0.5918 - val_loss: 42.5757 - val_accuracy: 0.5760\n",
      "Epoch 54/100\n",
      "194/194 [==============================] - 0s 1ms/step - loss: 30.5471 - accuracy: 0.6028 - val_loss: 33.1440 - val_accuracy: 0.5296\n",
      "Epoch 55/100\n",
      "194/194 [==============================] - 0s 1ms/step - loss: 33.2061 - accuracy: 0.5968 - val_loss: 38.7741 - val_accuracy: 0.5464\n",
      "Epoch 56/100\n",
      "194/194 [==============================] - 0s 1ms/step - loss: 34.0883 - accuracy: 0.5886 - val_loss: 33.4630 - val_accuracy: 0.5664\n",
      "Epoch 57/100\n",
      "194/194 [==============================] - 0s 1ms/step - loss: 33.1497 - accuracy: 0.5934 - val_loss: 33.8521 - val_accuracy: 0.5580\n",
      "Epoch 58/100\n",
      "194/194 [==============================] - 0s 1ms/step - loss: 28.8973 - accuracy: 0.6050 - val_loss: 31.8025 - val_accuracy: 0.6115\n",
      "Epoch 59/100\n",
      "194/194 [==============================] - 0s 1ms/step - loss: 28.1341 - accuracy: 0.5947 - val_loss: 35.5620 - val_accuracy: 0.5754\n",
      "Epoch 60/100\n",
      "194/194 [==============================] - 0s 1ms/step - loss: 27.1312 - accuracy: 0.6002 - val_loss: 32.1707 - val_accuracy: 0.5354\n",
      "Epoch 61/100\n",
      "194/194 [==============================] - 0s 1ms/step - loss: 27.7039 - accuracy: 0.5950 - val_loss: 29.0104 - val_accuracy: 0.5947\n",
      "Epoch 62/100\n",
      "194/194 [==============================] - 0s 1ms/step - loss: 24.4726 - accuracy: 0.6044 - val_loss: 31.5920 - val_accuracy: 0.6070\n",
      "Epoch 63/100\n",
      "194/194 [==============================] - 0s 1ms/step - loss: 28.0711 - accuracy: 0.6049 - val_loss: 32.1006 - val_accuracy: 0.5406\n",
      "Epoch 64/100\n",
      "194/194 [==============================] - 0s 1ms/step - loss: 27.8416 - accuracy: 0.5920 - val_loss: 28.6637 - val_accuracy: 0.5851\n",
      "Epoch 65/100\n",
      "194/194 [==============================] - 0s 1ms/step - loss: 25.4693 - accuracy: 0.5965 - val_loss: 30.3234 - val_accuracy: 0.5986\n",
      "Epoch 66/100\n",
      "194/194 [==============================] - 0s 1ms/step - loss: 23.6987 - accuracy: 0.5976 - val_loss: 22.1301 - val_accuracy: 0.6147\n",
      "Epoch 67/100\n",
      "194/194 [==============================] - 0s 1ms/step - loss: 22.6813 - accuracy: 0.5976 - val_loss: 29.1638 - val_accuracy: 0.5735\n",
      "Epoch 68/100\n",
      "194/194 [==============================] - 0s 1ms/step - loss: 21.1799 - accuracy: 0.5979 - val_loss: 23.4882 - val_accuracy: 0.6076\n",
      "Epoch 69/100\n",
      "194/194 [==============================] - 0s 1ms/step - loss: 24.5934 - accuracy: 0.5831 - val_loss: 28.8837 - val_accuracy: 0.5934\n",
      "Epoch 70/100\n",
      "194/194 [==============================] - 0s 1ms/step - loss: 22.3921 - accuracy: 0.5886 - val_loss: 38.3370 - val_accuracy: 0.5677\n",
      "Epoch 71/100\n",
      "194/194 [==============================] - 0s 1ms/step - loss: 22.6939 - accuracy: 0.5833 - val_loss: 30.3958 - val_accuracy: 0.4774\n",
      "Epoch 72/100\n",
      "194/194 [==============================] - 0s 1ms/step - loss: 21.0398 - accuracy: 0.5910 - val_loss: 22.7998 - val_accuracy: 0.5818\n",
      "Epoch 73/100\n",
      "194/194 [==============================] - 0s 1ms/step - loss: 18.6883 - accuracy: 0.6004 - val_loss: 17.7815 - val_accuracy: 0.5954\n",
      "Epoch 74/100\n",
      "194/194 [==============================] - 0s 1ms/step - loss: 18.9189 - accuracy: 0.5981 - val_loss: 26.2856 - val_accuracy: 0.5683\n",
      "Epoch 75/100\n",
      "194/194 [==============================] - 0s 1ms/step - loss: 19.7668 - accuracy: 0.5904 - val_loss: 22.8704 - val_accuracy: 0.6037\n",
      "Epoch 76/100\n",
      "194/194 [==============================] - 0s 1ms/step - loss: 16.0470 - accuracy: 0.6052 - val_loss: 22.3911 - val_accuracy: 0.5934\n",
      "Epoch 77/100\n",
      "194/194 [==============================] - 0s 1ms/step - loss: 16.8484 - accuracy: 0.5923 - val_loss: 24.9945 - val_accuracy: 0.5702\n",
      "Epoch 78/100\n",
      "194/194 [==============================] - 0s 1ms/step - loss: 17.2810 - accuracy: 0.5859 - val_loss: 20.8400 - val_accuracy: 0.5896\n",
      "Epoch 79/100\n",
      "194/194 [==============================] - 0s 1ms/step - loss: 20.1117 - accuracy: 0.5735 - val_loss: 15.7981 - val_accuracy: 0.6231\n",
      "Epoch 80/100\n",
      "194/194 [==============================] - 0s 1ms/step - loss: 14.2784 - accuracy: 0.6010 - val_loss: 14.9202 - val_accuracy: 0.5941\n",
      "Epoch 81/100\n",
      "194/194 [==============================] - 0s 1ms/step - loss: 15.5743 - accuracy: 0.5892 - val_loss: 16.9078 - val_accuracy: 0.5999\n",
      "Epoch 82/100\n",
      "194/194 [==============================] - 0s 1ms/step - loss: 14.3137 - accuracy: 0.5954 - val_loss: 21.3904 - val_accuracy: 0.6147\n",
      "Epoch 83/100\n",
      "194/194 [==============================] - 0s 1ms/step - loss: 15.2884 - accuracy: 0.5913 - val_loss: 11.2629 - val_accuracy: 0.5902\n",
      "Epoch 84/100\n",
      "194/194 [==============================] - 0s 1ms/step - loss: 13.5165 - accuracy: 0.5902 - val_loss: 17.9279 - val_accuracy: 0.5709\n",
      "Epoch 85/100\n",
      "194/194 [==============================] - 0s 1ms/step - loss: 13.6489 - accuracy: 0.5842 - val_loss: 17.9939 - val_accuracy: 0.5419\n",
      "Epoch 86/100\n",
      "194/194 [==============================] - 0s 1ms/step - loss: 12.1762 - accuracy: 0.5925 - val_loss: 11.7271 - val_accuracy: 0.5619\n",
      "Epoch 87/100\n",
      "194/194 [==============================] - 0s 1ms/step - loss: 11.3725 - accuracy: 0.5909 - val_loss: 11.2884 - val_accuracy: 0.6160\n",
      "Epoch 88/100\n",
      "194/194 [==============================] - 0s 1ms/step - loss: 11.8097 - accuracy: 0.5894 - val_loss: 12.3316 - val_accuracy: 0.6044\n",
      "Epoch 89/100\n",
      "194/194 [==============================] - 0s 1ms/step - loss: 12.1294 - accuracy: 0.5825 - val_loss: 22.7831 - val_accuracy: 0.5290\n",
      "Epoch 90/100\n",
      "194/194 [==============================] - 0s 1ms/step - loss: 13.7158 - accuracy: 0.5833 - val_loss: 9.8976 - val_accuracy: 0.6005\n",
      "Epoch 91/100\n",
      "194/194 [==============================] - 0s 1ms/step - loss: 8.9279 - accuracy: 0.6015 - val_loss: 11.3183 - val_accuracy: 0.5438\n",
      "Epoch 92/100\n",
      "194/194 [==============================] - 0s 1ms/step - loss: 10.5893 - accuracy: 0.5831 - val_loss: 10.7779 - val_accuracy: 0.5438\n",
      "Epoch 93/100\n",
      "194/194 [==============================] - 0s 1ms/step - loss: 8.5224 - accuracy: 0.5992 - val_loss: 16.0332 - val_accuracy: 0.5831\n",
      "Epoch 94/100\n",
      "194/194 [==============================] - 0s 1ms/step - loss: 9.5599 - accuracy: 0.5738 - val_loss: 7.5952 - val_accuracy: 0.5992\n",
      "Epoch 95/100\n",
      "194/194 [==============================] - 0s 1ms/step - loss: 7.7889 - accuracy: 0.6007 - val_loss: 10.1195 - val_accuracy: 0.5631\n",
      "Epoch 96/100\n",
      "194/194 [==============================] - 0s 1ms/step - loss: 7.8832 - accuracy: 0.5933 - val_loss: 7.9946 - val_accuracy: 0.5857\n",
      "Epoch 97/100\n",
      "194/194 [==============================] - 0s 1ms/step - loss: 7.4998 - accuracy: 0.5788 - val_loss: 9.1698 - val_accuracy: 0.5844\n",
      "Epoch 98/100\n",
      "194/194 [==============================] - 0s 1ms/step - loss: 7.4269 - accuracy: 0.5870 - val_loss: 8.3691 - val_accuracy: 0.5393\n",
      "Epoch 99/100\n",
      "194/194 [==============================] - 0s 1ms/step - loss: 6.8448 - accuracy: 0.5862 - val_loss: 9.1821 - val_accuracy: 0.5793\n",
      "Epoch 100/100\n",
      "194/194 [==============================] - 0s 1ms/step - loss: 7.0861 - accuracy: 0.5833 - val_loss: 8.1989 - val_accuracy: 0.4974\n"
     ]
    }
   ],
   "source": [
    "# Train the model\n",
    "history = model.fit(resampled_features, pd.Series(resampled_labels), epochs=100, batch_size=32, validation_split=0.2)#, class_weight=dict(zip(np.unique(y_train), class_weights.round(4))))"
   ]
  },
  {
   "cell_type": "code",
   "execution_count": 47,
   "id": "20ad15c1-7961-452b-9d5a-efc061ceb13e",
   "metadata": {},
   "outputs": [
    {
     "name": "stdout",
     "output_type": "stream",
     "text": [
      "1563/1563 [==============================] - 1s 739us/step\n",
      "              precision    recall  f1-score   support\n",
      "\n",
      "           0       0.00      0.29      0.00        35\n",
      "           1       0.90      0.45      0.60     24409\n",
      "           2       0.04      0.15      0.06       838\n",
      "           3       0.06      0.40      0.10      1036\n",
      "           4       0.98      0.69      0.81     23508\n",
      "           5       0.14      0.87      0.24       171\n",
      "           6       0.00      0.00      0.00         2\n",
      "           7       0.00      0.00      0.00         1\n",
      "\n",
      "    accuracy                           0.56     50000\n",
      "   macro avg       0.26      0.36      0.23     50000\n",
      "weighted avg       0.90      0.56      0.68     50000\n",
      "\n"
     ]
    }
   ],
   "source": [
    "# Make predictions on the test set\n",
    "y_pred = model.predict(X_test)\n",
    "y_pred_classes = np.argmax(y_pred, axis=1)\n",
    "\n",
    "# Display classification report\n",
    "print(classification_report(y_test, y_pred_classes))"
   ]
  },
  {
   "cell_type": "code",
   "execution_count": 48,
   "id": "c6171207-3cf4-4d91-9f87-9d648aa5d479",
   "metadata": {},
   "outputs": [
    {
     "data": {
      "text/plain": [
       "<sklearn.metrics._plot.confusion_matrix.ConfusionMatrixDisplay at 0x1d41f2b53d0>"
      ]
     },
     "execution_count": 48,
     "metadata": {},
     "output_type": "execute_result"
    },
    {
     "data": {
      "image/png": "[encoded data removed]",
      "text/plain": [
       "<Figure size 640x480 with 2 Axes>"
      ]
     },
     "metadata": {},
     "output_type": "display_data"
    }
   ],
   "source": [
    "cm = confusion_matrix(y_test, y_pred_classes)\n",
    "cmd = ConfusionMatrixDisplay(cm)\n",
    "cmd.plot()"
   ]
  },
  {
   "cell_type": "code",
   "execution_count": 49,
   "id": "be452f38-b1b7-4dad-befa-ab7c384ba194",
   "metadata": {},
   "outputs": [
    {
     "data": {
      "text/html": [
       "<style>#sk-container-id-3 {color: black;}#sk-container-id-3 pre{padding: 0;}#sk-container-id-3 div.sk-toggleable {background-color: white;}#sk-container-id-3 label.sk-toggleable__label {cursor: pointer;display: block;width: 100%;margin-bottom: 0;padding: 0.3em;box-sizing: border-box;text-align: center;}#sk-container-id-3 label.sk-toggleable__label-arrow:before {content: \"▸\";float: left;margin-right: 0.25em;color: #696969;}#sk-container-id-3 label.sk-toggleable__label-arrow:hover:before {color: black;}#sk-container-id-3 div.sk-estimator:hover label.sk-toggleable__label-arrow:before {color: black;}#sk-container-id-3 div.sk-toggleable__content {max-height: 0;max-width: 0;overflow: hidden;text-align: left;background-color: #f0f8ff;}#sk-container-id-3 div.sk-toggleable__content pre {margin: 0.2em;color: black;border-radius: 0.25em;background-color: #f0f8ff;}#sk-container-id-3 input.sk-toggleable__control:checked~div.sk-toggleable__content {max-height: 200px;max-width: 100%;overflow: auto;}#sk-container-id-3 input.sk-toggleable__control:checked~label.sk-toggleable__label-arrow:before {content: \"▾\";}#sk-container-id-3 div.sk-estimator input.sk-toggleable__control:checked~label.sk-toggleable__label {background-color: #d4ebff;}#sk-container-id-3 div.sk-label input.sk-toggleable__control:checked~label.sk-toggleable__label {background-color: #d4ebff;}#sk-container-id-3 input.sk-hidden--visually {border: 0;clip: rect(1px 1px 1px 1px);clip: rect(1px, 1px, 1px, 1px);height: 1px;margin: -1px;overflow: hidden;padding: 0;position: absolute;width: 1px;}#sk-container-id-3 div.sk-estimator {font-family: monospace;background-color: #f0f8ff;border: 1px dotted black;border-radius: 0.25em;box-sizing: border-box;margin-bottom: 0.5em;}#sk-container-id-3 div.sk-estimator:hover {background-color: #d4ebff;}#sk-container-id-3 div.sk-parallel-item::after {content: \"\";width: 100%;border-bottom: 1px solid gray;flex-grow: 1;}#sk-container-id-3 div.sk-label:hover label.sk-toggleable__label {background-color: #d4ebff;}#sk-container-id-3 div.sk-serial::before {content: \"\";position: absolute;border-left: 1px solid gray;box-sizing: border-box;top: 0;bottom: 0;left: 50%;z-index: 0;}#sk-container-id-3 div.sk-serial {display: flex;flex-direction: column;align-items: center;background-color: white;padding-right: 0.2em;padding-left: 0.2em;position: relative;}#sk-container-id-3 div.sk-item {position: relative;z-index: 1;}#sk-container-id-3 div.sk-parallel {display: flex;align-items: stretch;justify-content: center;background-color: white;position: relative;}#sk-container-id-3 div.sk-item::before, #sk-container-id-3 div.sk-parallel-item::before {content: \"\";position: absolute;border-left: 1px solid gray;box-sizing: border-box;top: 0;bottom: 0;left: 50%;z-index: -1;}#sk-container-id-3 div.sk-parallel-item {display: flex;flex-direction: column;z-index: 1;position: relative;background-color: white;}#sk-container-id-3 div.sk-parallel-item:first-child::after {align-self: flex-end;width: 50%;}#sk-container-id-3 div.sk-parallel-item:last-child::after {align-self: flex-start;width: 50%;}#sk-container-id-3 div.sk-parallel-item:only-child::after {width: 0;}#sk-container-id-3 div.sk-dashed-wrapped {border: 1px dashed gray;margin: 0 0.4em 0.5em 0.4em;box-sizing: border-box;padding-bottom: 0.4em;background-color: white;}#sk-container-id-3 div.sk-label label {font-family: monospace;font-weight: bold;display: inline-block;line-height: 1.2em;}#sk-container-id-3 div.sk-label-container {text-align: center;}#sk-container-id-3 div.sk-container {/* jupyter's `normalize.less` sets `[hidden] { display: none; }` but bootstrap.min.css set `[hidden] { display: none !important; }` so we also need the `!important` here to be able to override the default hidden behavior on the sphinx rendered scikit-learn.org. See: https://github.com/scikit-learn/scikit-learn/issues/21755 */display: inline-block !important;position: relative;}#sk-container-id-3 div.sk-text-repr-fallback {display: none;}</style><div id=\"sk-container-id-3\" class=\"sk-top-container\"><div class=\"sk-text-repr-fallback\"><pre>RandomForestClassifier(max_depth=20)</pre><b>In a Jupyter environment, please rerun this cell to show the HTML representation or trust the notebook. <br />On GitHub, the HTML representation is unable to render, please try loading this page with nbviewer.org.</b></div><div class=\"sk-container\" hidden><div class=\"sk-item\"><div class=\"sk-estimator sk-toggleable\"><input class=\"sk-toggleable__control sk-hidden--visually\" id=\"sk-estimator-id-3\" type=\"checkbox\" checked><label for=\"sk-estimator-id-3\" class=\"sk-toggleable__label sk-toggleable__label-arrow\">RandomForestClassifier</label><div class=\"sk-toggleable__content\"><pre>RandomForestClassifier(max_depth=20)</pre></div></div></div></div></div>"
      ],
      "text/plain": [
       "RandomForestClassifier(max_depth=20)"
      ]
     },
     "execution_count": 49,
     "metadata": {},
     "output_type": "execute_result"
    }
   ],
   "source": [
    "clf = RandomForestClassifier(max_depth=20)\n",
    "clf.fit(resampled_features, pd.Series(resampled_labels))"
   ]
  },
  {
   "cell_type": "code",
   "execution_count": 50,
   "id": "4e6982ef-2dbe-4d1d-a1c7-5b6457f9f9ec",
   "metadata": {},
   "outputs": [],
   "source": [
    "y_hat = clf.predict(X_test)"
   ]
  },
  {
   "cell_type": "code",
   "execution_count": 51,
   "id": "19132d5e-a1e3-4b36-9ff6-6cc21ef6e92b",
   "metadata": {},
   "outputs": [
    {
     "name": "stdout",
     "output_type": "stream",
     "text": [
      "              precision    recall  f1-score   support\n",
      "\n",
      "           0       0.14      0.03      0.05        35\n",
      "           1       0.99      0.67      0.80     24409\n",
      "           2       0.06      0.47      0.10       838\n",
      "           3       0.09      0.52      0.15      1036\n",
      "           4       0.99      0.84      0.91     23508\n",
      "           5       0.55      0.96      0.70       171\n",
      "           6       0.00      0.00      0.00         2\n",
      "           7       0.00      0.00      0.00         1\n",
      "\n",
      "    accuracy                           0.74     50000\n",
      "   macro avg       0.35      0.44      0.34     50000\n",
      "weighted avg       0.95      0.74      0.82     50000\n",
      "\n"
     ]
    }
   ],
   "source": [
    "print(classification_report(y_test, y_hat))"
   ]
  },
  {
   "cell_type": "code",
   "execution_count": 52,
   "id": "772578a6-0146-4f23-87b8-0a1dcb0749b7",
   "metadata": {},
   "outputs": [
    {
     "data": {
      "text/plain": [
       "<sklearn.metrics._plot.confusion_matrix.ConfusionMatrixDisplay at 0x1d4601133d0>"
      ]
     },
     "execution_count": 52,
     "metadata": {},
     "output_type": "execute_result"
    },
    {
     "data": {
      "image/png": "[encoded data removed]",
      "text/plain": [
       "<Figure size 640x480 with 2 Axes>"
      ]
     },
     "metadata": {},
     "output_type": "display_data"
    }
   ],
   "source": [
    "cm = confusion_matrix(y_test, y_hat)\n",
    "cmd = ConfusionMatrixDisplay(cm)\n",
    "cmd.plot()"
   ]
  }
 ],
 "metadata": {
  "kernelspec": {
   "display_name": "Python 3 (ipykernel)",
   "language": "python",
   "name": "python3"
  },
  "language_info": {
   "codemirror_mode": {
    "name": "ipython",
    "version": 3
   },
   "file_extension": ".py",
   "mimetype": "text/x-python",
   "name": "python",
   "nbconvert_exporter": "python",
   "pygments_lexer": "ipython3",
   "version": "3.11.5"
  }
 },
 "nbformat": 4,
 "nbformat_minor": 5
}
